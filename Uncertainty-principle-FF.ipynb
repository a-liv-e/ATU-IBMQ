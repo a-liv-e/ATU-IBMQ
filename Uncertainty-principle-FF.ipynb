{
 "cells": [
  {
   "cell_type": "markdown",
   "id": "d098f4ed",
   "metadata": {},
   "source": [
    "# The uncertainty principle\n",
    "\n",
    "The uncertainty principle is one of the most celebrated parts of quantum mechanics, but at the same time it is also one of the most misintrepreted.\n",
    "\n",
    "In this exercise we will explicitly see the uncertainty principle at work and at the same time exemplify some of the pitfalls that often leads to misintrepretations of the uncertainty principle. \n",
    "\n",
    "**Learning goal:** To be able to apply the uncertainty principle to two operators in a given state."
   ]
  },
  {
   "cell_type": "markdown",
   "id": "e8a2f143-a6b5-492d-90cd-3da4efd5bd99",
   "metadata": {
    "tags": []
   },
   "source": [
    "**Background**\n",
    "\n",
    "The uncertaintly principle is a statement which is relevant if we want to measure two different physical quantities for a given quantum system. So let's consider two Hermitian operators $A$ and $B$ which represent the two physical quantities. \n",
    "\n",
    "You will find a deriviation of the uncertainty principle in most textbooks on quantum physics, see for example section 3.5.1 Griffiths and Schroeter (3ed). The principle is typically stated as \n",
    "\n",
    "\\begin{equation}\n",
    "\\sigma_A^2\\sigma_B^2 \\geq \\left(\\frac{1}{2i}\\left\\langle\\big[A,B\\big]\\right\\rangle\\right)^2 \\ .\n",
    "\\end{equation}\n",
    "\n",
    "Now there is a lot going on in this formula, and a lot of it is hidden in the quite compact notation we use! Most importantly note that the uncertainty principle is a statement about expectation values in a given state: Both $\\sigma_A^2$, $\\sigma_B^2$ and $\\left\\langle\\big[A,B\\big]\\right\\rangle$ are expectation values in a given state $|\\psi\\rangle$. To see this let's write things out more explicitly. We have on the left hand side the variance\n",
    "\n",
    "\\begin{equation}\n",
    "\\sigma_A^2 =\\big\\langle \\psi|A^2|\\psi\\big\\rangle-\\big\\langle \\psi|A|\\psi\\big\\rangle^2\n",
    "\\end{equation}\n",
    "\n",
    "and likewise for $B$. On the right hand side we have the expectation value of commutator  \n",
    "\n",
    "\\begin{equation}\n",
    "\\left\\langle\\big[A,B\\big]\\right\\rangle = \\left\\langle\\psi|\\big[A,B\\big]|\\psi\\right\\rangle \\ .\n",
    "\\end{equation}\n",
    "\n",
    "\n",
    "So the uncertainty principle is a statement about the variances in a given state of two physical operators and the expectation value of their commutator in the same state. The state can be anything we like but it must be the same state used in all expectation values.\n",
    "\n"
   ]
  },
  {
   "cell_type": "markdown",
   "id": "5cabd8f2-18da-4ba0-af88-4407277579a4",
   "metadata": {},
   "source": [
    "**The operators we will work with**\n",
    "\n",
    "In order to get a better understanding of what the uncertainty principle implies we will work through a specific example. To keep things simple we will work only with a single qubit such that our Hilbert space is two dimensional. \n",
    "\n",
    "As the physical observables we will choose the Hermitian operators $M_x$ and $M_y$, which expressed in the basis $|0\\rangle$ and $|1\\rangle$ becomes\n",
    "\n",
    "\\begin{equation}\n",
    "M_x=\\frac{1}{2}\\left(\\begin{array}{cc} 1 & 1 \\\\ 1 & 1 \\end{array}\\right) \n",
    "\\end{equation}\n",
    "\n",
    "and\n",
    "\n",
    "\\begin{equation}\n",
    "M_y=\\frac{1}{2}\\left(\\begin{array}{cc} 1 & i \\\\ -i & 1 \\end{array}\\right) \\ .\n",
    "\\end{equation}\n",
    "\n",
    "**Note:** The oprators $M_x$ and $M_y$ are just rotated versions of our standard measuring operator \n",
    "\n",
    "\\begin{equation}\n",
    "M=\\left(\\begin{array}{cc} 0 & 0 \\\\ 0 & 1 \\end{array}\\right) \\ .\n",
    "\\end{equation}\n",
    "\n",
    "That is, $M_x=R_y(-\\pi/2)MR_y(\\pi/2)$ and $M_y=R_x(\\pi/2)MR_x(-\\pi/2)$, where $R_x$ and $R_y$ are rotations about the respective axis. Since these are unitary rotations the eigenvalues of $M_x$ and $M_y$ are exactly the same as of $M$, namely $0$ and $1$.\n",
    "\n",
    "\n",
    "\n",
    "**Exercise 1:** Determine the commutator $[M_x,M_y]$, which will enter on the right hand side of the ucertainty principle.\n",
    "\n",
    "\n",
    "\n",
    "**The state we will work with**\n",
    "\n",
    "The uncertainty principle is a statement about expectation values in some state $|\\psi\\rangle$. It holds for any state, and as an example of a state we will choose $|0\\rangle$ which in the basis $(|0\\rangle,|1\\rangle)$ used here is given by \n",
    "\n",
    "\\begin{equation}\n",
    "\\left(\\begin{array}{c} 1 \\\\ 0 \\end{array}\\right) \\ .\n",
    "\\end{equation}\n",
    "\n",
    "\n",
    "**Exercise 2:** Determine the expectation value of the commutator $[M_x,M_y]$ in the state $|0\\rangle$, ie. compute $\\langle 0|[M_x,M_y]|0\\rangle$.\n",
    "\n",
    "Now we could go on an compute $\\sigma_{M_x}$ and $\\sigma_{M_y}$ in the state $|\\psi\\rangle$ as well, and check that the uncertainty principle is satisfied (if you like by all means go ahead and do so, it is a nice exercise). But rather than doing analytic computations let's try to do several experiments and determine $\\sigma_{M_x}$ and $\\sigma_{M_y}$ from these. These experiments will (hopefully) give a better understanding of what the uncertainty principle does and does not state.  \n"
   ]
  },
  {
   "cell_type": "markdown",
   "id": "251d70b3-122d-41de-b323-dfb48c048a61",
   "metadata": {},
   "source": [
    "Let's first import the relevant packages"
   ]
  },
  {
   "cell_type": "code",
   "execution_count": null,
   "id": "a6c90373",
   "metadata": {},
   "outputs": [],
   "source": [
    "import numpy as np\n",
    "# Importing standard Qiskit libraries\n",
    "from qiskit import QuantumCircuit, transpile, Aer, IBMQ\n",
    "from qiskit.tools.jupyter import *\n",
    "from qiskit.visualization import *\n",
    "from ibm_quantum_widgets import *\n",
    "from math import pi, sqrt\n",
    "\n",
    "# Loading your IBM Q account(s)\n",
    "provider = IBMQ.load_account()"
   ]
  },
  {
   "cell_type": "markdown",
   "id": "86869400-77f5-421b-ba6e-623088c20265",
   "metadata": {},
   "source": [
    "Let's try to determine the variances that are on the left hand side of the uncertainty relation.\n",
    "\n",
    "**Step 1:** Measure $M_x$ many times. \n",
    "\n",
    "To determine the variance $\\sigma_{M_x}$ we need to measure measure $M_x$ in the state $|0\\rangle$ many times and see how the result varies. By default QisKit always starts with the state $|0\\rangle$ so we get the state we want automatically. To measure $M_x$ we must first rotate the measuring device such that it measures along the $x$-axis rather than along the $z$-axis (which is default). To do so we add a rotation by $\\pi/2$ about the $y$-axis. "
   ]
  },
  {
   "cell_type": "code",
   "execution_count": null,
   "id": "6023f9ce-c1ad-48be-b382-dae55b7a1089",
   "metadata": {
    "scrolled": true
   },
   "outputs": [],
   "source": [
    "circ = QuantumCircuit(1,1)\n",
    "circ.ry(pi/2,0)\n",
    "circ.measure(0,0)\n",
    "circ.draw()"
   ]
  },
  {
   "cell_type": "markdown",
   "id": "4ece43cd-c412-49ef-ac9a-514d497b8391",
   "metadata": {},
   "source": [
    "Now let's run it 1024 times.\n",
    "\n",
    "\n",
    "**Note:** Each time we do the experiment we start the system in the state $|0\\rangle$."
   ]
  },
  {
   "cell_type": "markdown",
   "id": "9a09e825-99c9-446d-9e84-5b30f40eff5c",
   "metadata": {},
   "source": [
    "If you want to run this experiment on an actual quantum computer, toggle the boolean below to 'False', but do beware that you results will take a while (the time it takes depends on how busy the quantum computers are) to come in."
   ]
  },
  {
   "cell_type": "code",
   "execution_count": null,
   "id": "e68b1563-a8ab-4a39-bcb2-85c7a1efadd9",
   "metadata": {},
   "outputs": [],
   "source": [
    "simulate = True #Set this to False if you want to run on an actual quantum computer"
   ]
  },
  {
   "cell_type": "code",
   "execution_count": null,
   "id": "34c9e0ad-038a-4b7b-8b48-011b3ca2c7d5",
   "metadata": {
    "tags": []
   },
   "outputs": [],
   "source": [
    "from qiskit import QuantumCircuit, assemble, Aer\n",
    "from qiskit.visualization import plot_histogram\n",
    "from qiskit.providers.ibmq import least_busy\n",
    "\n",
    "if simulate:\n",
    "    sim = Aer.get_backend('qasm_simulator')  # this is the simulator we'll use\n",
    "    qobj = assemble(circ)  # this turns the circuit into an object our backend can run\n",
    "    result = sim.run(qobj).result()  # we run the experiment and get the result from that experiment\n",
    "    # from the results, we get a dictionary containing the number of times (counts)\n",
    "    # each result appeared\n",
    "    counts = result.get_counts()\n",
    "else:\n",
    "    # Load our saved IBMQ accounts and get the least busy backend device with less than or equal to 5 qubits\n",
    "    n=3\n",
    "    IBMQ.load_account()\n",
    "    provider = IBMQ.get_provider(hub='ibm-q')\n",
    "    backend = least_busy(provider.backends(filters=lambda x: x.configuration().n_qubits >= n and \n",
    "                                       not x.configuration().simulator and x.status().operational==True))\n",
    "    print(\"least busy backend: \", backend)\n",
    "\n",
    "# Execute and monitor the job\n",
    "    from qiskit.tools.monitor import job_monitor\n",
    "    shots = 1024\n",
    "    transpiled_circ = transpile(circ, backend, optimization_level=3)\n",
    "    qobj = assemble(transpiled_circ, shots=shots)\n",
    "    job = backend.run(qobj)\n",
    "    job_monitor(job, interval=2)\n",
    "    counts = job.result().get_counts()\n",
    "    \n",
    "plot_histogram(counts)"
   ]
  },
  {
   "cell_type": "markdown",
   "id": "0711ab87-ab21-4903-b46e-17a4daa185d1",
   "metadata": {},
   "source": [
    "**Exercise 3:** Show that if we have $n$ measurements of an operator, $M$, with eigenvalues 0 and 1, then we can get the variance by \n",
    "\n",
    "\\begin{equation}\n",
    "\\sigma_M^2 =\\frac{1}{n}\\left(n_1 (1-{\\bar m})^2 + n_0 {\\bar m}^2\\right)\n",
    "\\end{equation}\n",
    "\n",
    "where $n_0$ ($n_1$) are the number of measurements that gave the result 0 (1) and\n",
    "\n",
    "\\begin{equation}\n",
    "{\\bar m} = \\frac{n_1}{n} \n",
    "\\end{equation}\n",
    "\n",
    "is the average of the measurements.\n",
    "\n",
    "**Exercise 4:** \n",
    "Compute the variance, $\\sigma_{M_x}^2$, of $M_x$ in the state $|0\\rangle$ from the experimental data just obtained."
   ]
  },
  {
   "cell_type": "markdown",
   "id": "3169eb3c-1aed-4a22-9e79-f3a6496eb40c",
   "metadata": {},
   "source": [
    "**Step 2:** Now to determine also $\\sigma_{M_y}^2$, let's measure $M_y$ many times. \n",
    "\n",
    "**Note:** Each time we do the experiment we again start the system in the state $|0\\rangle$. We do so because we want to measure the variance of $M_y$ in the state $|0\\rangle$. This is the quantity which enters the uncertainty relation.\n",
    "\n",
    "This time to align the measuring device with the $y$-axis we perform a rotation about the $x$-axis through the angle $-\\pi/2$."
   ]
  },
  {
   "cell_type": "code",
   "execution_count": null,
   "id": "a69e03dd-0fcd-4fd9-86d3-a67aa9dee6d0",
   "metadata": {},
   "outputs": [],
   "source": [
    "circ = QuantumCircuit(1,1)\n",
    "circ.rx(-pi/2,0)\n",
    "circ.measure(0,0)\n",
    "circ.draw()"
   ]
  },
  {
   "cell_type": "code",
   "execution_count": null,
   "id": "aad2b6e5-910e-4531-aecd-dadc91d7dbbe",
   "metadata": {},
   "outputs": [],
   "source": [
    "if simulate:\n",
    "    sim = Aer.get_backend('qasm_simulator')  # this is the simulator we'll use\n",
    "    qobj = assemble(circ)  # this turns the circuit into an object our backend can run\n",
    "    result = sim.run(qobj).result()  # we run the experiment and get the result from that experiment\n",
    "    # from the results, we get a dictionary containing the number of times (counts)\n",
    "    # each result appeared\n",
    "    counts = result.get_counts()\n",
    "else:\n",
    "    # Load our saved IBMQ accounts and get the least busy backend device with less than or equal to 5 qubits\n",
    "    n=3\n",
    "    IBMQ.load_account()\n",
    "    provider = IBMQ.get_provider(hub='ibm-q')\n",
    "    backend = least_busy(provider.backends(filters=lambda x: x.configuration().n_qubits >= n and \n",
    "                                       not x.configuration().simulator and x.status().operational==True))\n",
    "    print(\"least busy backend: \", backend)\n",
    "\n",
    "# Execute and monitor the job\n",
    "    from qiskit.tools.monitor import job_monitor\n",
    "    shots = 1024\n",
    "    transpiled_circ = transpile(circ, backend, optimization_level=3)\n",
    "    qobj = assemble(transpiled_circ, shots=shots)\n",
    "    job = backend.run(qobj)\n",
    "    job_monitor(job, interval=2)\n",
    "    counts = job.result().get_counts()\n",
    "    \n",
    "plot_histogram(counts)"
   ]
  },
  {
   "cell_type": "markdown",
   "id": "06c694b8-2111-47ea-8292-530aa0e5ccdd",
   "metadata": {},
   "source": [
    "As you most likely have guessed we now want to:\n",
    "\n",
    "**Exercise 5:** Compute the variance, $\\sigma_{M_y}^2$, of $M_y$ in the state $|0\\rangle$ from the experimental data just obtained."
   ]
  },
  {
   "cell_type": "markdown",
   "id": "541e9364-25a6-4ab5-8396-20fc1f6ee99c",
   "metadata": {},
   "source": [
    "**Exercise 6:** Use the values you have just obtained experimentally for $\\sigma_{M_x}^2$ and $\\sigma_{M_y}^2$ as well a as your result from Exercise 2 to check if the Uncertainty principle is statisfied for the specific operators and state we have just considered ($M_x$, $M_y$ and $|\\psi\\rangle=|0\\rangle$).\n",
    "\n",
    "**Note:** As we do not have infinite statistics here, our experimental values for the variaces of $M_x$ and $M_y$ in the state $|0\\rangle$ are are not exact. "
   ]
  },
  {
   "cell_type": "markdown",
   "id": "54d991a2-cdca-4b93-ab98-f944e9235cd5",
   "metadata": {},
   "source": [
    "**Summary, thus far:** We have now explicitly performed experiments to determine the variances that enter the uncertainty relation. This hopefully have given you a good insight into what the uncertainty princciple is a statement about."
   ]
  },
  {
   "cell_type": "markdown",
   "id": "a2760a88-aa49-4858-aadc-167ae8c7a114",
   "metadata": {},
   "source": [
    "**A common misintrepretation** \n",
    "\n",
    "Now that we have explicitly seen what the uncertainty principle states, let's look at a common misintrepretation.\n",
    "\n",
    "We start again with a measurement of $M_x$ and this time we only need to do it once.\n",
    "\n",
    "We put the system in the state $|0\\rangle$, rotate the measuring devise and measure $M_x$. Here we go!"
   ]
  },
  {
   "cell_type": "code",
   "execution_count": null,
   "id": "e83d8304-253e-4729-b468-e48e580236a1",
   "metadata": {
    "scrolled": true
   },
   "outputs": [],
   "source": [
    "circ = QuantumCircuit(1,1)\n",
    "circ.ry(pi/2,0)\n",
    "circ.measure(0,0)\n",
    "circ.draw()"
   ]
  },
  {
   "cell_type": "code",
   "execution_count": null,
   "id": "2e004117-a930-4723-b16b-bb3e867f7252",
   "metadata": {
    "scrolled": true
   },
   "outputs": [],
   "source": [
    "if simulate:\n",
    "    sim = Aer.get_backend('qasm_simulator')  # this is the simulator we'll use\n",
    "    qobj = assemble(circ, memory = True, shots = 1)  # this turns the circuit into an object our backend can run\n",
    "    result = sim.run(qobj).result()  # we run the experiment and get the result from that experiment\n",
    "    # from the results, we get a dictionary containing the number of times (counts)\n",
    "    # each result appeared\n",
    "    memory = result.get_memory()\n",
    "else:\n",
    "    # Load our saved IBMQ accounts and get the least busy backend device with less than or equal to 5 qubits\n",
    "    n=3\n",
    "    IBMQ.load_account()\n",
    "    provider = IBMQ.get_provider(hub='ibm-q')\n",
    "    backend = least_busy(provider.backends(filters=lambda x: x.configuration().n_qubits >= n and \n",
    "                                       not x.configuration().simulator and x.status().operational==True))\n",
    "    print(\"least busy backend: \", backend)\n",
    "\n",
    "# Execute and monitor the job\n",
    "    from qiskit.tools.monitor import job_monitor\n",
    "    shots = 1\n",
    "    transpiled_circ = transpile(circ, backend, optimization_level=3)\n",
    "    qobj = assemble(transpiled_circ, shots=shots)\n",
    "    job = backend.run(qobj)\n",
    "    job_monitor(job, interval=2)\n",
    "    memory = job.result().get_counts()\n",
    "\n",
    "print(memory)"
   ]
  },
  {
   "cell_type": "markdown",
   "id": "97ab13c0-631b-4b99-bb9b-db805b27e7f1",
   "metadata": {},
   "source": [
    "OK, so now we have measured $M_x$ and we got some value (0 or 1). Suppose we now want to measure $M_y$ as well. First we need to rotate the measuring device such that it measures along the $y$-axis. Since it at present measures along the $x$-axis we simply need to rotate it by $\\pi/2$ around the $z$-axis.\n",
    " \n",
    "So we rotate the measuring devise to the $y$-axis and then measure $M_y$"
   ]
  },
  {
   "cell_type": "code",
   "execution_count": null,
   "id": "936ddb85-2a4d-4cbb-b338-836b4fc2b2ab",
   "metadata": {},
   "outputs": [],
   "source": [
    "circ = QuantumCircuit(1,2)\n",
    "circ.ry(pi/2,0)\n",
    "circ.measure(0,0)\n",
    "circ.rz(pi/2,0)\n",
    "circ.measure(0,1)\n",
    "circ.draw()"
   ]
  },
  {
   "cell_type": "code",
   "execution_count": null,
   "id": "fbcfff5e-28d3-4906-b29b-d4975f5aeac1",
   "metadata": {
    "scrolled": true
   },
   "outputs": [],
   "source": [
    "if simulate:\n",
    "    sim = Aer.get_backend('qasm_simulator')  # this is the simulator we'll use\n",
    "    qobj = assemble(circ, memory = True, shots = 1)  # this turns the circuit into an object our backend can run\n",
    "    result = sim.run(qobj).result()  # we run the experiment and get the result from that experiment\n",
    "    # from the results, we get a dictionary containing the number of times (counts)\n",
    "    # each result appeared\n",
    "    memory = result.get_memory()\n",
    "else:\n",
    "    # Load our saved IBMQ accounts and get the least busy backend device with less than or equal to 5 qubits\n",
    "    n=3\n",
    "    IBMQ.load_account()\n",
    "    provider = IBMQ.get_provider(hub='ibm-q')\n",
    "    backend = least_busy(provider.backends(filters=lambda x: x.configuration().n_qubits >= n and \n",
    "                                       not x.configuration().simulator and x.status().operational==True))\n",
    "    print(\"least busy backend: \", backend)\n",
    "\n",
    "# Execute and monitor the job\n",
    "    from qiskit.tools.monitor import job_monitor\n",
    "    shots = 1\n",
    "    transpiled_circ = transpile(circ, backend, optimization_level=3)\n",
    "    qobj = assemble(transpiled_circ, shots=shots)\n",
    "    job = backend.run(qobj)\n",
    "    job_monitor(job, interval=2)\n",
    "    memory = job.result().get_counts()\n",
    "    \n",
    "print(memory)"
   ]
  },
  {
   "cell_type": "markdown",
   "id": "3f426c26-3e7d-4d7d-9f25-68d911f9df89",
   "metadata": {},
   "source": [
    "**How to read the result:** The rightmost digit is the outcome of the measurement of $M_x$ and the leftmost of $M_y$."
   ]
  },
  {
   "cell_type": "markdown",
   "id": "c74cf399-bd4e-4356-ab6a-9b4712cccb46",
   "metadata": {},
   "source": [
    "**Wait!?** \n",
    "\n",
    "We just got a value for both the measurement of $M_x$ and of $M_y$! But $wait$ did the uncertainty principle not tell us that this was impossible? \n",
    "\n",
    "**No!** If you do a measurement you will always get some result and if you do two measurements you will always get two results. The first measurement can (an most likely will) affect the result of the second measurement, and if we had done the two measurements in the opposite order the result most likely would have been different (see the exercise on repeated measurements). But it is possible to do the two measurements, however **only one after the other**."
   ]
  },
  {
   "cell_type": "markdown",
   "id": "154198c0-4b96-42c3-b17a-f5cea987eeeb",
   "metadata": {},
   "source": [
    "**Take home:** The uncertainty principle is a relation between expectation values of quantum mechanical operators. Hence it is a statement about how the results of a measurement vary when repeated many times (just as we did in the first part above). \n",
    "\n",
    "This exercise hopefully has helped you to understand how to (and not to) interpret the uncertainty principle. "
   ]
  }
 ],
 "metadata": {
  "kernelspec": {
   "display_name": "Python 3 (ipykernel)",
   "language": "python",
   "name": "python3"
  },
  "language_info": {
   "codemirror_mode": {
    "name": "ipython",
    "version": 3
   },
   "file_extension": ".py",
   "mimetype": "text/x-python",
   "name": "python",
   "nbconvert_exporter": "python",
   "pygments_lexer": "ipython3",
   "version": "3.8.15"
  },
  "widgets": {
   "application/vnd.jupyter.widget-state+json": {
    "state": {},
    "version_major": 2,
    "version_minor": 0
   }
  }
 },
 "nbformat": 4,
 "nbformat_minor": 5
}
