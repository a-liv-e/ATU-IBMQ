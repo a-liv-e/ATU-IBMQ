{
 "cells": [
  {
   "cell_type": "markdown",
   "id": "9fbe564b",
   "metadata": {},
   "source": [
    "# Measurements on a single qubit\n",
    "\n",
    "Quantum mechanics is often said to counterintuitive, in particular when it comes to measurements. This could well be the case if you have only trained your intuition on classical systems. This exersice is a first step towards building up your quantum intuition!\n",
    "\n",
    "We will work on a single qubit and thereby at the same time familiarize ourseves with the basic building block of quantum computers such as IBM Q.\n",
    "\n",
    "**Learning goal:** To gain a first expirence with the measurement postulate and start to build up your quantum intuition. Familiarize our selves with the qubit.\n"
   ]
  },
  {
   "cell_type": "markdown",
   "id": "26eb5b10",
   "metadata": {},
   "source": [
    "# The measurement postulate\n",
    "\n",
    "Let's keep things simple and work with a two level system, given by the two states $|0\\rangle$ and $|1\\rangle$. More formally, we have that the two states $|0\\rangle$ and $|1\\rangle$ are orthonormal and span the Hilbert space. Hence any normalized state $|\\psi\\rangle$ in this 2d space can be written as a superposition of these two states\n",
    "\n",
    "\\begin{equation}\n",
    "|\\psi\\rangle= \\alpha|0\\rangle+\\beta|1\\rangle \\ ,\n",
    "\\end{equation}\n",
    "\n",
    "with $|\\alpha|^2+|\\beta|^2=1$.\n",
    "\n",
    "\n",
    "In this 2d space the measurement postulate of quantum mechanics states: \n",
    "\n",
    "If the system is in the state $|\\psi\\rangle= \\alpha|0\\rangle+\\beta|1\\rangle$ then\n",
    "\n",
    "**1.** The probability that a measuremet will yield the value $0$ respectively $1$ is given by\n",
    "\n",
    "\\begin{equation}\n",
    "P_0 = |\\langle 0|\\psi\\rangle|^2 = |\\alpha|^2  \\quad {\\rm and} \\quad P_1 = |\\langle 1|\\psi\\rangle|^2 = |\\beta|^2\n",
    "\\end{equation}\n",
    "\n",
    "**2.** If the outcome of the measurement is 0 then the sate of the system right after the measurement is $|0\\rangle$ and likevise if the outcome is $1$ the state collapses to $|1\\rangle$. \n",
    "\n",
    "\n",
    "But what do we measure here? Well, physical observables are given by Hermitian operators and the possible outcomes are the eigenvalues of the given Hermitian operator. Therefore we are measuring an operator, $M$, with eigenvalues $0$ and $1$ and it must be diagonal in the basis given by $|0\\rangle$ and $|1\\rangle$,  \n",
    "\n",
    "\\begin{equation}\n",
    "M=\\left(\\begin{array}{cc} 0 & 0 \\\\ 0 & 1 \\end{array}\n",
    "\\right)\n",
    "\\end{equation}\n",
    "\n",
    "Why diagonal? Well if the state of the system was $|\\psi\\rangle = |0\\rangle$ and we where to measure $M$ then the outcome would with 100% certainty be 0 and likevise if the state of the system was $|\\psi\\rangle = |1\\rangle$ we would get the value 1. Hence $|0\\rangle$ and $|1\\rangle$ are eigenstates of the Hermitian operator $M$ and $M$ is diagonal in this basis. \n",
    "\n",
    "**Exercise 0:** What does the states $|0\\rangle$ and $|1\\rangle$ look like in the basis $|0\\rangle$ and $|1\\rangle$?"
   ]
  },
  {
   "cell_type": "markdown",
   "id": "b192716d",
   "metadata": {},
   "source": [
    "**Our first measurement!**\n",
    "\n",
    "To get started let's simply put the system in the state $|0\\rangle$ and then perform a measurement of the Hermitain operator $M$ for which we now know that  \n",
    "\n",
    "\\begin{eqnarray}\n",
    "M|0\\rangle & = & 0|0\\rangle \\\\\n",
    "M|1\\rangle & = & 1|1\\rangle \n",
    "\\end{eqnarray}"
   ]
  },
  {
   "cell_type": "code",
   "execution_count": 1,
   "id": "f4f72ab6",
   "metadata": {},
   "outputs": [],
   "source": [
    "# Importing standard Qiskit libraries\n",
    "from qiskit import QuantumCircuit, transpile, Aer, IBMQ\n",
    "from qiskit.tools.jupyter import *\n",
    "from qiskit.visualization import *\n",
    "from ibm_quantum_widgets import *\n",
    "\n",
    "# Loading your IBM Q account(s)\n",
    "provider = IBMQ.load_account()"
   ]
  },
  {
   "cell_type": "markdown",
   "id": "05805cc9-f81a-4c6c-8fe2-03327428e6d0",
   "metadata": {},
   "source": [
    "This is what the system looks like"
   ]
  },
  {
   "cell_type": "code",
   "execution_count": 2,
   "id": "e573a56d",
   "metadata": {
    "scrolled": true
   },
   "outputs": [
    {
     "data": {
      "image/png": "[encoded data removed]",
      "text/plain": [
       "<Figure size 133.526x144.48 with 1 Axes>"
      ]
     },
     "execution_count": 2,
     "metadata": {},
     "output_type": "execute_result"
    }
   ],
   "source": [
    "circ = QuantumCircuit(1,1)\n",
    "circ.measure(0,0)\n",
    "circ.draw()"
   ]
  },
  {
   "cell_type": "markdown",
   "id": "4d37adf1-c2ff-467d-8af8-a3b79ce16594",
   "metadata": {},
   "source": [
    "**How to read this diagram:** The horizontal line marked by `q` follows our two level system (the qubit). Initially it is (by default) in the state $|0\\rangle$. The black box with the gauge on is the measuring device and the arrow below indicates that the outcome of the measurement will be put in the classical bit `c` marked by the horizontal doubleline. The small 0 next to the arrow tells us that it is the zero'th classical bit we use to store the result in. (Later we will have more classical bits and then it will be useful in order to keep track of which measurement is stored in which classical bit.)"
   ]
  },
  {
   "cell_type": "markdown",
   "id": "df5f2e18-144f-470f-94e6-c53039ca1eb8",
   "metadata": {},
   "source": [
    "**Exercise 1:**  Write down what you expect that the outcome of the measurement will be.\n",
    "\n",
    "**Exercise 2:** Now run the simulation below, to check if your expectation was correct."
   ]
  },
  {
   "cell_type": "code",
   "execution_count": 3,
   "id": "d9361306",
   "metadata": {
    "scrolled": true
   },
   "outputs": [
    {
     "name": "stdout",
     "output_type": "stream",
     "text": [
      "['0', '0', '0', '0', '0', '0', '0', '0', '0', '0']\n"
     ]
    },
    {
     "name": "stderr",
     "output_type": "stream",
     "text": [
      "<frozen importlib._bootstrap>:219: RuntimeWarning: scipy._lib.messagestream.MessageStream size changed, may indicate binary incompatibility. Expected 56 from C header, got 64 from PyObject\n"
     ]
    }
   ],
   "source": [
    "simulator = Aer.get_backend('aer_simulator') #Simulator to run the quantum circuit\n",
    "\n",
    "result = simulator.run(circ, shots=10, memory=True).result() #Runs the circuit 10 times and saves the results\n",
    "memory = result.get_memory(circ) #Get the results into an array and print them\n",
    "print(memory)"
   ]
  },
  {
   "cell_type": "markdown",
   "id": "0f5cac04-0531-483a-9954-42d052c54194",
   "metadata": {},
   "source": [
    "**How to read the result:** We have performed the measurement 10 times and the outcome of each measurement is given in the list."
   ]
  },
  {
   "cell_type": "markdown",
   "id": "d5c61aaf",
   "metadata": {},
   "source": [
    "**This far:** We have put the system in the state $|0\\rangle$ and have performed a measuremet of $M$. As $|0\\rangle$ is an eigenstate of $M$ the outcome of the measurement is $0$ with 100% certainty.  "
   ]
  },
  {
   "cell_type": "markdown",
   "id": "82b400b5",
   "metadata": {},
   "source": [
    "**Exercise 3:** What is the state of the system after the measurement?"
   ]
  },
  {
   "cell_type": "markdown",
   "id": "9ab9b1af",
   "metadata": {},
   "source": [
    "Now let's apply a rotation by $\\pi/2$ around the $y$-axis\n",
    "\n",
    "\\begin{equation}\n",
    "R_y(\\pi/2)=\\frac{1}{\\sqrt{2}}\\left(\\begin{array}{cc} 1 & -1 \\\\ 1 & 1 \\end{array}\n",
    "\\right)\n",
    "\\end{equation}\n",
    "\n",
    "to the qubit. This will change the state of the system from $|\\psi\\rangle=|0\\rangle$ to \n",
    "\n",
    "\\begin{equation}\n",
    "|\\psi\\rangle = \\frac{1}{\\sqrt{2}}\\big(|0\\rangle+|1\\rangle\\big)\n",
    "\\end{equation}\n",
    "\n",
    "\n",
    "\n",
    "**Exercise 4:** Check that you agree that this is the new state of the system! "
   ]
  },
  {
   "cell_type": "code",
   "execution_count": 4,
   "id": "642e0e0a",
   "metadata": {},
   "outputs": [
    {
     "data": {
      "image/png": "[encoded data removed]",
      "text/plain": [
       "<Figure size 193.726x144.48 with 1 Axes>"
      ]
     },
     "execution_count": 4,
     "metadata": {},
     "output_type": "execute_result"
    }
   ],
   "source": [
    "from math import pi\n",
    "circ = QuantumCircuit(1,2)\n",
    "circ.measure(0,0)\n",
    "circ.ry(pi/2,0)\n",
    "circ.draw()"
   ]
  },
  {
   "cell_type": "markdown",
   "id": "0f95ae6f",
   "metadata": {},
   "source": [
    "Let's now measure $M$"
   ]
  },
  {
   "cell_type": "code",
   "execution_count": 5,
   "id": "61268860",
   "metadata": {},
   "outputs": [
    {
     "data": {
      "image/png": "[encoded data removed]",
      "text/plain": [
       "<Figure size 253.926x144.48 with 1 Axes>"
      ]
     },
     "execution_count": 5,
     "metadata": {},
     "output_type": "execute_result"
    }
   ],
   "source": [
    "circ.measure(0,1)\n",
    "circ.draw()"
   ]
  },
  {
   "cell_type": "code",
   "execution_count": 6,
   "id": "2c55098a",
   "metadata": {},
   "outputs": [
    {
     "name": "stdout",
     "output_type": "stream",
     "text": [
      "['00', '00', '10', '00', '10', '00', '00', '10', '00', '00']\n"
     ]
    }
   ],
   "source": [
    "simulator = Aer.get_backend('aer_simulator')\n",
    "\n",
    "result = simulator.run(circ, shots=10, memory=True).result()\n",
    "memory = result.get_memory(circ)\n",
    "print(memory)"
   ]
  },
  {
   "cell_type": "markdown",
   "id": "f1158ce9",
   "metadata": {},
   "source": [
    "**How to read the result:**  We have performed the full experiment 10 times and thus has 10 sets of resultes, each is given as a as a pair in the output above. Within the pairs the rightmost classical output as before gives 0 with 100% certainty, the result of our second measurement is in the leftmost classical output.\n",
    "\n",
    "**Exercise 5:** Explain the result above."
   ]
  },
  {
   "cell_type": "markdown",
   "id": "09a79a02",
   "metadata": {},
   "source": [
    "\n",
    "Following the second measurement we now choose to measure $M$ once more. \n",
    "\n",
    "**Exercise 6:** Write down your expectation for the outcome of the last measurement. Then check your expectation running the quantum system below."
   ]
  },
  {
   "cell_type": "code",
   "execution_count": 7,
   "id": "f426dd8e",
   "metadata": {},
   "outputs": [
    {
     "data": {
      "image/png": "[encoded data removed]",
      "text/plain": [
       "<Figure size 314.126x144.48 with 1 Axes>"
      ]
     },
     "execution_count": 7,
     "metadata": {},
     "output_type": "execute_result"
    }
   ],
   "source": [
    "circ = QuantumCircuit(1,3)\n",
    "circ.measure(0,0)\n",
    "circ.ry(pi/2,0)\n",
    "circ.measure(0,1)\n",
    "circ.measure(0,2)\n",
    "circ.draw()"
   ]
  },
  {
   "cell_type": "code",
   "execution_count": 8,
   "id": "b7c89803",
   "metadata": {},
   "outputs": [
    {
     "name": "stdout",
     "output_type": "stream",
     "text": [
      "['000', '000', '000', '110', '000', '110', '000', '110', '000', '110']\n"
     ]
    }
   ],
   "source": [
    "simulator = Aer.get_backend('aer_simulator')\n",
    "\n",
    "result = simulator.run(circ, shots=10, memory=True).result()\n",
    "memory = result.get_memory(circ)\n",
    "print(memory)"
   ]
  },
  {
   "cell_type": "markdown",
   "id": "4790a3c4-a7b5-4555-962f-c76d4523275d",
   "metadata": {},
   "source": [
    "**How to read the result:** The result of the new measurement is in the leftmost digit. The two rightmost digits are as before."
   ]
  },
  {
   "cell_type": "markdown",
   "id": "293fd9e2-a89c-4c79-92ba-bcec9d35e969",
   "metadata": {
    "tags": []
   },
   "source": [
    "**Illustration of the distribution of states by histograms**\n",
    "\n",
    "\n",
    "This far we have always repeated the simulation 10 times. To check with better statistics we will now run the same experiment 1024 times. Obviously it will be somewhat bothersome to consider 1024 outputs in a long list, so let's instead view it as a histogram."
   ]
  },
  {
   "cell_type": "code",
   "execution_count": 9,
   "id": "c2edfbb5-23ac-4406-af64-d59d67124d71",
   "metadata": {},
   "outputs": [
    {
     "data": {
      "image/png": "[encoded data removed]",
      "text/plain": [
       "<Figure size 504x360 with 1 Axes>"
      ]
     },
     "execution_count": 9,
     "metadata": {},
     "output_type": "execute_result"
    }
   ],
   "source": [
    "from qiskit import QuantumCircuit, assemble, Aer\n",
    "from qiskit.visualization import plot_histogram\n",
    "\n",
    "sim = Aer.get_backend('qasm_simulator')  # this is the simulator we'll use\n",
    "qobj = assemble(circ)  # this turns the circuit into an object our backend can run\n",
    "result = sim.run(qobj).result()  # we run the experiment and get the result from that experiment\n",
    "# from the results, we get a dictionary containing the number of times (counts)\n",
    "# each result appeared\n",
    "counts = result.get_counts()\n",
    "# and display it on a histogram\n",
    "plot_histogram(counts)"
   ]
  },
  {
   "cell_type": "markdown",
   "id": "e3f64478-7d47-4314-bd5d-91ee4348c7f1",
   "metadata": {},
   "source": [
    "**Conclusion:** Repeating the measurement has given exactly the same result as before, because the first of the two measurements forced the system in to the eigenstate of $M$ which correspond to the eigenvalue just measured. If we measure $M$ again we therefore get exactly the same result we just had obtained!"
   ]
  },
  {
   "cell_type": "markdown",
   "id": "2649e097-697d-45f2-8596-a0b6c71e2634",
   "metadata": {},
   "source": [
    "**Take home:** After a measurement the state of the system will be the eigenstate associated with the eigenvalue which was the outcome of the measurement!"
   ]
  }
 ],
 "metadata": {
  "kernelspec": {
   "display_name": "Python 3 (ipykernel)",
   "language": "python",
   "name": "python3"
  },
  "language_info": {
   "codemirror_mode": {
    "name": "ipython",
    "version": 3
   },
   "file_extension": ".py",
   "mimetype": "text/x-python",
   "name": "python",
   "nbconvert_exporter": "python",
   "pygments_lexer": "ipython3",
   "version": "3.8.15"
  },
  "widgets": {
   "application/vnd.jupyter.widget-state+json": {
    "state": {
     "00e31a0b2b4748f4adaff99567c3d86c": {
      "model_module": "@jupyter-widgets/base",
      "model_module_version": "1.2.0",
      "model_name": "LayoutModel",
      "state": {
       "grid_area": "right",
       "padding": "0px 0px 0px 0px",
       "width": "70px"
      }
     },
     "0763322a56f84c8fb2ed722d863454f6": {
      "model_module": "@jupyter-widgets/controls",
      "model_module_version": "1.5.0",
      "model_name": "DescriptionStyleModel",
      "state": {
       "description_width": ""
      }
     },
     "0b5cf60558c44e7099c259375d8096f1": {
      "model_module": "@jupyter-widgets/base",
      "model_module_version": "1.2.0",
      "model_name": "LayoutModel",
      "state": {
       "margin": "0px 0px 10px 0px"
      }
     },
     "10540d25dfda4db096f441e691c2fb91": {
      "model_module": "@jupyter-widgets/controls",
      "model_module_version": "1.5.0",
      "model_name": "HTMLModel",
      "state": {
       "layout": "IPY_MODEL_0b5cf60558c44e7099c259375d8096f1",
       "style": "IPY_MODEL_a18a8f7980d245de8d249269744ecfa2",
       "value": "<p style='font-family: IBM Plex Sans, Arial, Helvetica, sans-serif; font-size: 20px; font-weight: medium;'>Circuit Properties</p>"
      }
     },
     "12a558c5bef14d53a39d95055e258172": {
      "model_module": "@jupyter-widgets/controls",
      "model_module_version": "1.5.0",
      "model_name": "DescriptionStyleModel",
      "state": {
       "description_width": ""
      }
     },
     "1524a2d5a6ce40bbb21ddb62b41e42f8": {
      "model_module": "@jupyter-widgets/base",
      "model_module_version": "1.2.0",
      "model_name": "LayoutModel",
      "state": {}
     },
     "1e03d7206c2f4149b66174a3f78d2ceb": {
      "model_module": "@jupyter-widgets/controls",
      "model_module_version": "1.5.0",
      "model_name": "DescriptionStyleModel",
      "state": {
       "description_width": ""
      }
     },
     "1fd17ebc6d6b481ebd7a5dd646638682": {
      "model_module": "@jupyter-widgets/controls",
      "model_module_version": "1.5.0",
      "model_name": "HBoxModel",
      "state": {
       "children": [
        "IPY_MODEL_51d09f9d01b44cfcb64699f5025c8a0f",
        "IPY_MODEL_8f2f05bd0cab4ecfb9eb61456d93e524",
        "IPY_MODEL_54efb050c8d44117b4d0901424f17a74",
        "IPY_MODEL_c6482c94fd644a3ebba5a2e05cb9fc8a",
        "IPY_MODEL_b099044660464a7bbd7480ef3661b648"
       ],
       "layout": "IPY_MODEL_f69db832fa484ed580e9b9852bdbed58"
      }
     },
     "3e622efca5e248589e1067739fd0a447": {
      "model_module": "@jupyter-widgets/base",
      "model_module_version": "1.2.0",
      "model_name": "LayoutModel",
      "state": {
       "width": "95px"
      }
     },
     "51400700ac87421baf6212c3ed6efcf3": {
      "model_module": "@jupyter-widgets/controls",
      "model_module_version": "1.5.0",
      "model_name": "DescriptionStyleModel",
      "state": {
       "description_width": ""
      }
     },
     "51d09f9d01b44cfcb64699f5025c8a0f": {
      "model_module": "@jupyter-widgets/controls",
      "model_module_version": "1.5.0",
      "model_name": "HTMLModel",
      "state": {
       "layout": "IPY_MODEL_a914c1bacc124ee0a00b3012c1529314",
       "style": "IPY_MODEL_6697754d9c854693bfe54ee3fe06ce8b",
       "value": "<h5>Job ID</h5>"
      }
     },
     "54efb050c8d44117b4d0901424f17a74": {
      "model_module": "@jupyter-widgets/controls",
      "model_module_version": "1.5.0",
      "model_name": "HTMLModel",
      "state": {
       "layout": "IPY_MODEL_3e622efca5e248589e1067739fd0a447",
       "style": "IPY_MODEL_12a558c5bef14d53a39d95055e258172",
       "value": "<h5>Status</h5>"
      }
     },
     "6697754d9c854693bfe54ee3fe06ce8b": {
      "model_module": "@jupyter-widgets/controls",
      "model_module_version": "1.5.0",
      "model_name": "DescriptionStyleModel",
      "state": {
       "description_width": ""
      }
     },
     "7a690498d1c74c5eaf630c32fcfeb2e0": {
      "model_module": "@jupyter-widgets/base",
      "model_module_version": "1.2.0",
      "model_name": "LayoutModel",
      "state": {
       "width": "145px"
      }
     },
     "7d45bc5cc8994d7ba96c8852df0d61d3": {
      "model_module": "@jupyter-widgets/controls",
      "model_module_version": "1.5.0",
      "model_name": "ButtonStyleModel",
      "state": {}
     },
     "8d34bb57e3984e22afba51103cba75da": {
      "model_module": "@jupyter-widgets/controls",
      "model_module_version": "1.5.0",
      "model_name": "ButtonModel",
      "state": {
       "button_style": "primary",
       "description": "Clear",
       "layout": "IPY_MODEL_00e31a0b2b4748f4adaff99567c3d86c",
       "style": "IPY_MODEL_7d45bc5cc8994d7ba96c8852df0d61d3"
      }
     },
     "8f2f05bd0cab4ecfb9eb61456d93e524": {
      "model_module": "@jupyter-widgets/controls",
      "model_module_version": "1.5.0",
      "model_name": "HTMLModel",
      "state": {
       "layout": "IPY_MODEL_7a690498d1c74c5eaf630c32fcfeb2e0",
       "style": "IPY_MODEL_51400700ac87421baf6212c3ed6efcf3",
       "value": "<h5>Backend</h5>"
      }
     },
     "a18a8f7980d245de8d249269744ecfa2": {
      "model_module": "@jupyter-widgets/controls",
      "model_module_version": "1.5.0",
      "model_name": "DescriptionStyleModel",
      "state": {
       "description_width": ""
      }
     },
     "a914c1bacc124ee0a00b3012c1529314": {
      "model_module": "@jupyter-widgets/base",
      "model_module_version": "1.2.0",
      "model_name": "LayoutModel",
      "state": {
       "width": "190px"
      }
     },
     "ab647cbfef8c4210876c769c4b3f9c39": {
      "model_module": "@jupyter-widgets/base",
      "model_module_version": "1.2.0",
      "model_name": "LayoutModel",
      "state": {
       "grid_template_areas": "\n                                       \". . . . right \"\n                                        ",
       "grid_template_columns": "20% 20% 20% 20% 20%",
       "width": "100%"
      }
     },
     "b099044660464a7bbd7480ef3661b648": {
      "model_module": "@jupyter-widgets/controls",
      "model_module_version": "1.5.0",
      "model_name": "HTMLModel",
      "state": {
       "layout": "IPY_MODEL_1524a2d5a6ce40bbb21ddb62b41e42f8",
       "style": "IPY_MODEL_0763322a56f84c8fb2ed722d863454f6",
       "value": "<h5>Message</h5>"
      }
     },
     "c6482c94fd644a3ebba5a2e05cb9fc8a": {
      "model_module": "@jupyter-widgets/controls",
      "model_module_version": "1.5.0",
      "model_name": "HTMLModel",
      "state": {
       "layout": "IPY_MODEL_f95c98eafa10448684fe999249d10429",
       "style": "IPY_MODEL_1e03d7206c2f4149b66174a3f78d2ceb",
       "value": "<h5>Queue</h5>"
      }
     },
     "df328b7cae8342d39c6adc1cc2509487": {
      "model_module": "@jupyter-widgets/controls",
      "model_module_version": "1.5.0",
      "model_name": "GridBoxModel",
      "state": {
       "children": [
        "IPY_MODEL_8d34bb57e3984e22afba51103cba75da"
       ],
       "layout": "IPY_MODEL_ab647cbfef8c4210876c769c4b3f9c39"
      }
     },
     "f69db832fa484ed580e9b9852bdbed58": {
      "model_module": "@jupyter-widgets/base",
      "model_module_version": "1.2.0",
      "model_name": "LayoutModel",
      "state": {
       "margin": "0px 0px 0px 37px",
       "width": "600px"
      }
     },
     "f95c98eafa10448684fe999249d10429": {
      "model_module": "@jupyter-widgets/base",
      "model_module_version": "1.2.0",
      "model_name": "LayoutModel",
      "state": {
       "width": "70px"
      }
     }
    },
    "version_major": 2,
    "version_minor": 0
   }
  }
 },
 "nbformat": 4,
 "nbformat_minor": 5
}
