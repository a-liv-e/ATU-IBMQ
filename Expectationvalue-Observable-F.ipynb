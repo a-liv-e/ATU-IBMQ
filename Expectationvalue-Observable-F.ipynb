{
 "cells": [
  {
   "cell_type": "markdown",
   "id": "9fbe564b",
   "metadata": {},
   "source": [
    "# Expectation value of an observable\n",
    "\n",
    "In all good books on quantum mechanics (such as Griffiths and Schröeter) we learn how to compute the expectation value of an observable in a given state. But how is this expectation value measured experimentally?\n",
    "\n",
    "The best way to understand this is no doubt to do an experiment and then measure the expectation value of an observable. The quantum computer is the ideal experiment for this so let's use it!\n",
    "\n",
    "**Learning goal:** Understand how to obtain the expectation value from an experiment."
   ]
  },
  {
   "cell_type": "code",
   "execution_count": null,
   "id": "c6587b62-cae9-4480-a8d1-db89f87faaed",
   "metadata": {},
   "outputs": [],
   "source": [
    "# Importing standard Qiskit libraries\n",
    "from qiskit import QuantumCircuit, transpile, Aer, IBMQ\n",
    "from qiskit.tools.jupyter import *\n",
    "from qiskit.visualization import *\n",
    "from ibm_quantum_widgets import *\n",
    "import numpy as np\n",
    "\n",
    "# Loading your IBM Q account(s)\n",
    "provider = IBMQ.load_account()"
   ]
  },
  {
   "cell_type": "markdown",
   "id": "5acae784-6f65-46c0-b29b-914f846bcf41",
   "metadata": {},
   "source": [
    "**How do we measure an expectation value in an experiment?**\n",
    "\n",
    "The first thing to realize is that when we measure a physical observable in quantum mechanics we do not nessesarely get the same answer each time! This is true even though we very carefully make sure that the system is always in exactly the same state before we make the measurement. Therefore if we repeat the exact same measurement $N$ times, we will get a collection of $N$ results. **The expectation value** is the average value of these results when $N$ is large.  "
   ]
  },
  {
   "cell_type": "markdown",
   "id": "86c63d9b-a98c-4174-898d-25c0fd82936a",
   "metadata": {},
   "source": [
    "**How we use the qubits here:**\n",
    "\n",
    "\n",
    "Throughout this exercise we will identify the two states of a qubit with the two states of a spin 1/2 system: the qubit state $|0\\rangle$ is identified with the spin state $|s,m\\rangle=|1/2,-1/2\\rangle\\equiv|\\downarrow\\rangle$ and likevise we identify $|1\\rangle$ with $|s,m\\rangle=|1/2,1/2\\rangle=|\\uparrow\\rangle$. When we measure the qubit and find '0' ('1') the intrepretaion therefore is that we have measured $S_z$ and found the value $-\\hbar/2$ ($\\hbar/2$).\n"
   ]
  },
  {
   "cell_type": "markdown",
   "id": "92dcfdb0-e07a-4b25-b9a4-ae04d8ad226b",
   "metadata": {},
   "source": [
    "**Our experiment:**\n",
    "\n",
    "We will compute the expectation value of $S_z$ in the state \n",
    "\n",
    "\\begin{equation}\n",
    "|\\psi\\rangle = \\frac{1}{\\sqrt{2}}\\big(|\\uparrow\\rangle +|\\downarrow\\rangle\\big)\n",
    "\\end{equation}\n",
    "\n",
    "**Exercise 1:** Compute the propability that the measurement of $S_z$ gives respectively $-\\hbar/2$ and $\\hbar/2$.\n",
    "\n",
    "\n",
    "Now let's do the experiment 10 times and have alook at the results!\n",
    "\n",
    "**Don't miss:** Each time we start the system in the $|\\psi\\rangle$ and then measure $S_z$. "
   ]
  },
  {
   "cell_type": "code",
   "execution_count": null,
   "id": "1d947588-60d5-4aa5-936b-05b5c9325db8",
   "metadata": {
    "scrolled": true
   },
   "outputs": [],
   "source": [
    "from math import pi\n",
    "circ = QuantumCircuit(1,1)\n",
    "circ.ry(pi/2,0)\n",
    "circ.measure(0,0)\n",
    "circ.draw()"
   ]
  },
  {
   "cell_type": "code",
   "execution_count": null,
   "id": "0566cf64-d8c1-4f50-af16-f7939eb82fda",
   "metadata": {},
   "outputs": [],
   "source": [
    "simulator = Aer.get_backend('aer_simulator')\n",
    "\n",
    "result = simulator.run(circ, shots=10, memory=True).result()\n",
    "memory = result.get_memory(circ)\n",
    "\n",
    "ints = [eval(x)-1/2 for x in memory]\n",
    "print(\"Measurements of S_z in units of hbar:\", ints)"
   ]
  },
  {
   "cell_type": "markdown",
   "id": "879b7c89-bb32-4d88-84b8-256ceb722b76",
   "metadata": {},
   "source": [
    "**Check 1:** Does the result you just obtained look consistent with the results just obtained?\n",
    "\n",
    "**Exercise 2:** Compute the expectation value of $S_z$ in the state $|\\psi\\rangle$. \n",
    "\n",
    "**Note:** We often use the notation $\\langle S_z\\rangle$ to denote the expectation value of the operator $S_z$. Note, however, that the expectation value depends on the operator and the state, $|\\psi\\rangle$, we compute the expectation value in! We really should write $\\langle S_z\\rangle$ as $\\langle \\psi|S_z|\\psi\\rangle$. \n",
    "\n",
    "**Don't miss:** The expectation value depends on the operator **and** the state.\n",
    "\n",
    "**Check 2:** To check your prediction let's repeat the experiment 10.000 times."
   ]
  },
  {
   "cell_type": "code",
   "execution_count": null,
   "id": "7075d4f7-d49a-404a-8a17-16cbdfc8de80",
   "metadata": {},
   "outputs": [],
   "source": [
    "simulator = Aer.get_backend('aer_simulator')\n",
    "\n",
    "experiments = 10000\n",
    "result = simulator.run(circ, shots=experiments, memory=True).result()\n",
    "memory = result.get_memory(circ)\n",
    "\n",
    "\n",
    "ints = [eval(x)-1/2 for x in memory]\n",
    "y = sum(ints)\n",
    "print(\"Expectationvalue of S_z\",y/experiments,\"hbar\")"
   ]
  },
  {
   "cell_type": "markdown",
   "id": "255de2c2-fece-43c9-82e0-4e39d5bdd3d5",
   "metadata": {},
   "source": [
    "**Note:** We have 'only' performed the experiment 10.000 times so the average value of our results will be close to but not exactly equal to the expectation value."
   ]
  },
  {
   "cell_type": "markdown",
   "id": "73fc7235-a45e-43b5-b09b-f0e9405adcfa",
   "metadata": {},
   "source": [
    "**Take home:** The expectation value of an operator, $O$, in a given state, $|\\psi\\rangle$, is the average value of the results we obtain when we (many times) start the system in the state $|\\psi\\rangle$ and then measure $O$. "
   ]
  }
 ],
 "metadata": {
  "kernelspec": {
   "display_name": "Python 3 (ipykernel)",
   "language": "python",
   "name": "python3"
  },
  "language_info": {
   "codemirror_mode": {
    "name": "ipython",
    "version": 3
   },
   "file_extension": ".py",
   "mimetype": "text/x-python",
   "name": "python",
   "nbconvert_exporter": "python",
   "pygments_lexer": "ipython3",
   "version": "3.8.13"
  },
  "widgets": {
   "application/vnd.jupyter.widget-state+json": {
    "state": {},
    "version_major": 2,
    "version_minor": 0
   }
  }
 },
 "nbformat": 4,
 "nbformat_minor": 5
}
