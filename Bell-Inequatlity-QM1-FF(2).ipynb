{
 "cells": [
  {
   "cell_type": "markdown",
   "id": "1a1a922f-812a-49fe-8c7b-6a5a22faa49b",
   "metadata": {},
   "source": [
    "# Bell's inequality\n",
    "\n",
    "How can a measurement of one particle's spin affects another, even if they are far away from each other? Is it because the measurements of the two spins are predetermined - are we missing some hidden information given by a variable hidden from quantum mechanics? \n",
    "\n",
    "In this exercise we will perform a famous Bell experiment with two entangled spin $1/2$ particles. The results tells us whether there are variables hidden from quantum mechanics or not. \n",
    "\n",
    "**Learning goal:** to understand better the foundation of quantum mechanics and entanglement. "
   ]
  },
  {
   "cell_type": "markdown",
   "id": "2846bd9a-c89c-4199-b90c-405440cc0340",
   "metadata": {},
   "source": [
    "**Exercise 1 (warm-up):** what are the possible outcomes when we measure the $z$-component of the spin on a single spin 1/2 particle in the state\n",
    "\\begin{equation}\n",
    "\\frac{1}{\\sqrt{2}}(|\\uparrow \\rangle - |\\downarrow \\rangle)\n",
    "\\end{equation}\n",
    "?  \n",
    "\n",
    "\n",
    "**Background:** In 1964, John Stewart Bell proposed the famous <b>Bell's inequality</b>, showing that **any theory of hidden variables is incompatible with results of quantum experiments**. \n",
    "\n",
    "\n",
    "**The setup:** We consider a spin 0 particle (a $\\pi^0$) decaying into two spin 1/2 particles (two electrons) in the state\n",
    "\n",
    "\\begin{equation}\n",
    "|\\psi_-\\rangle = \\frac{1}{\\sqrt{2}}\\big(|\\uparrow\\downarrow\\rangle-| \\downarrow\\uparrow\\rangle\\big) \\ .\n",
    "\\end{equation}\n",
    "\n",
    "For this to be possible the state of the two electrons must also be a spin 0 state (since spin is conserved).\n",
    "\n",
    "**Exercise 2:** Check that the state of the two electrons is indeed a spin zero state. See e.g. section 4.4.3. of Griffiths and Schroeter.\n",
    "\n",
    "\n",
    "We now measure the spin of one electron along a chosen axis $\\mathbf{a}$ (it could be the $z$-axis, $S_z$) and the spin of the other electron along some other axis $\\mathbf{b}$ (it could be, say, the $x$-axis $S_x$).\n",
    "\n",
    "We repeat the experiment multiple times and record the results in units of $\\hbar/2$ (hence we always get +1 or -1). We consider the product to the two results, f.ex. $1\\cdot(-1)=-1$, and dub the **average product of the two results** $P(\\mathbf{a},\\mathbf{b})$. Next we change the orientation of the measurement devices and repeat this experiment with axies $\\mathbf{a}$ and $\\mathbf{c}$ (the average of the products will be $P(\\mathbf{a},\\mathbf{c})$), as well as with $\\mathbf{b}$ and $\\mathbf{c}$ (giving us $P(\\mathbf{b},\\mathbf{c})$). Bell proved exclusively from statistics that **any theory with hidden variables will predict the inequality**\n",
    "\n",
    "$$|P(\\mathbf{a},\\mathbf{b})-P(\\mathbf{a},\\mathbf{c})| \\leq 1 + P (\\mathbf{b},\\mathbf{c})$$\n",
    "\n",
    "This is <b>Bell's inequality</b>. We will perform the exact experiments described above, and verify using an *actual* quantum computer that the experimental result violates Bell's inequality!\n",
    "\n",
    "**Exercise 3:** What does it imply if Bell's inequality is violated in experiments?\n",
    "\n",
    "**Confused?** Chapter 12 in Griffiths and Schroeter gives a more elaborate explanation. \n",
    "\n",
    "We start by importing the necessary packages for these experiments."
   ]
  },
  {
   "cell_type": "code",
   "execution_count": 1,
   "id": "6150aefd-08a4-4b38-a0cb-6a27f44b01d6",
   "metadata": {},
   "outputs": [
    {
     "name": "stderr",
     "output_type": "stream",
     "text": [
      "/tmp/ipykernel_117/4023411004.py:12: DeprecationWarning: The qiskit.IBMQ entrypoint and the qiskit-ibmq-provider package (accessible from 'qiskit.providers.ibmq`) are deprecated and will be removed in a future release. Instead you should use the qiskit-ibm-provider package which is accessible from 'qiskit_ibm_provider'. You can install it with 'pip install qiskit_ibm_provider'. Just replace 'qiskit.IBMQ' with 'qiskit_ibm_provider.IBMProvider'\n",
      "  provider = IBMQ.load_account()\n"
     ]
    }
   ],
   "source": [
    "import numpy as np\n",
    "import matplotlib.pyplot as plt\n",
    "# Importing standard Qiskit libraries\n",
    "from qiskit.providers.ibmq import least_busy\n",
    "from qiskit import QuantumCircuit, transpile, Aer, IBMQ, assemble\n",
    "\n",
    "from qiskit.tools.jupyter import *\n",
    "from qiskit.visualization import *\n",
    "from ibm_quantum_widgets import *\n",
    "\n",
    "# Loading your IBM Q account(s)\n",
    "provider = IBMQ.load_account()"
   ]
  },
  {
   "cell_type": "markdown",
   "id": "9aa1758d-9970-475d-9bc3-a2f38a6bfd67",
   "metadata": {},
   "source": [
    "**Our-setup:** We will choose $\\mathbf{a}$, $\\mathbf{b}$ and $\\mathbf{c}$ all to be in the same plane. Hence we can define their orientation from their angle, $\\theta_i$, with the $z$-axis. Let's choose $\\mathbf{a}=\\mathbf{z}$ be fixed, after all it is only the relative angles between the different measurement devices that matters. In other words we have chosen $\\theta_A = 0$. \n",
    "\n",
    "For our experiments we choose the angles between the vectors $\\mathbf{a}$, $\\mathbf{b}$ and $\\mathbf{c}$ to be "
   ]
  },
  {
   "cell_type": "code",
   "execution_count": 2,
   "id": "256d1047-bf62-4a04-8d66-c1fab4939252",
   "metadata": {},
   "outputs": [],
   "source": [
    "thetaA = 0.0\n",
    "thetaB = np.pi/2\n",
    "thetaC = np.pi/4"
   ]
  },
  {
   "cell_type": "markdown",
   "id": "8e128b53-da6b-4571-bbdb-ed4f4ef14ae6",
   "metadata": {},
   "source": [
    "Feel free to change angles as you please, but be beware that **not all choises of angles between the vectors will lead to experiments that violate Bell's inequality**. \n",
    "\n",
    "To see this: \n",
    "\n",
    "**Exercise 4:** Show that for $\\mathbf{b} = \\mathbf{c}$ Bell's inequality is nessesarely satisfied. "
   ]
  },
  {
   "cell_type": "markdown",
   "id": "1c01d888-40b1-4f7c-9911-6d610c57a170",
   "metadata": {},
   "source": [
    "We now set up the experiment for measuring $P(\\mathbf{a},\\mathbf{b})$."
   ]
  },
  {
   "cell_type": "code",
   "execution_count": 3,
   "id": "781f1869",
   "metadata": {},
   "outputs": [
    {
     "data": {
      "image/png": "[encoded data removed]",
      "text/plain": [
       "<Figure size 1123.41x284.278 with 1 Axes>"
      ]
     },
     "execution_count": 3,
     "metadata": {},
     "output_type": "execute_result"
    }
   ],
   "source": [
    "circAB = QuantumCircuit(2,2)\n",
    "circAB.h(0)\n",
    "circAB.cx(0,1)\n",
    "circAB.z(1)\n",
    "circAB.x(1)\n",
    "circAB.barrier()\n",
    "theta1 = thetaA\n",
    "circAB.ry(theta1,0)\n",
    "circAB.ry(theta1,1)\n",
    "circAB.barrier() # just a vertical line which seperates where we set up the state and where we measure. \n",
    "circAB.measure(0,0)\n",
    "circAB.barrier() \n",
    "theta2 = thetaB-thetaA \n",
    "circAB.ry(theta2,0)\n",
    "circAB.ry(theta2,1)\n",
    "circAB.barrier() \n",
    "circAB.measure(1,1)\n",
    "circAB.draw()"
   ]
  },
  {
   "cell_type": "markdown",
   "id": "402ccce5-8186-475b-aa0d-359951098ef9",
   "metadata": {},
   "source": [
    "**Don't miss:**  We rotate both $q_0$ and $q_1$ and not just one of them.\n",
    "\n",
    "The code below sends this circuit to an actual IBM-Q Quantum Computer, and runs it 1024 times - there might be others using the quantum computers, so you might have to wait in line to get access. \n",
    "\n",
    "The variable 'sim' can be togled True or False. If you want to run a simulation of the code on an ordinary computer choose 'sim = True' and to run the experiment on an actual quantum computer set 'sim = False'."
   ]
  },
  {
   "cell_type": "code",
   "execution_count": 4,
   "id": "7d6258af-63d2-402c-ac83-168e20fe577a",
   "metadata": {},
   "outputs": [],
   "source": [
    "sim = False #Set this to False if you want to run on an actual quantum computer"
   ]
  },
  {
   "cell_type": "code",
   "execution_count": null,
   "id": "a2482310-7ce5-4c37-ad4c-ae9d8ba59101",
   "metadata": {},
   "outputs": [
    {
     "name": "stderr",
     "output_type": "stream",
     "text": [
      "ibmqfactory.load_account:WARNING:2023-03-22 12:28:11,779: Credentials are already in use. The existing account in the session will be replaced.\n"
     ]
    },
    {
     "name": "stdout",
     "output_type": "stream",
     "text": [
      "least busy backend:  ibm_oslo\n"
     ]
    },
    {
     "name": "stderr",
     "output_type": "stream",
     "text": [
      "/tmp/ipykernel_117/2079853415.py:21: DeprecationWarning: Passing a Qobj to Backend.run is deprecated and will be removed in a future release. Please pass in circuits or pulse schedules instead.\n",
      "  jobAB = backend.run(qobj)\n"
     ]
    },
    {
     "name": "stdout",
     "output_type": "stream",
     "text": [
      "Job Status: job is queued (118)   "
     ]
    }
   ],
   "source": [
    "if sim:\n",
    "    simulator = Aer.get_backend('aer_simulator')\n",
    "    Nmeasure = 1024\n",
    "    resultAB = simulator.run(circAB, shots=Nmeasure).result()\n",
    "    device_countsAB = resultAB.get_counts()\n",
    "    #Simulation code\n",
    "else:\n",
    "# Load our saved IBMQ accounts and get the least busy backend device with less than or equal to 5 qubits\n",
    "    n=3\n",
    "    IBMQ.load_account()\n",
    "    provider = IBMQ.get_provider(hub='ibm-q')\n",
    "    backend = least_busy(provider.backends(filters=lambda x: x.configuration().n_qubits >= n and \n",
    "                                       not x.configuration().simulator and x.status().operational==True))\n",
    "    print(\"least busy backend: \", backend)\n",
    "\n",
    "# Execute and monitor the job\n",
    "    from qiskit.tools.monitor import job_monitor\n",
    "    shots = 1024\n",
    "    transpiled_circ = transpile(circAB, backend, optimization_level=3)\n",
    "    qobj = assemble(transpiled_circ, shots=shots)\n",
    "    jobAB = backend.run(qobj)\n",
    "    job_monitor(jobAB, interval=2)\n",
    "    device_countsAB = jobAB.result().get_counts()\n",
    "\n",
    "device_countsAB[r\"$1_1, 1_0$\"] = device_countsAB.pop(\"11\")\n",
    "device_countsAB[r\"$1_1, -1_0$\"] = device_countsAB.pop(\"10\")\n",
    "device_countsAB[r\"$-1_1, 1_0$\"] = device_countsAB.pop(\"01\")\n",
    "device_countsAB[r\"$-1_1, -1_0$\"] = device_countsAB.pop(\"00\")"
   ]
  },
  {
   "cell_type": "code",
   "execution_count": null,
   "id": "34a88e16-fd5f-406e-96a1-7d68d53ae536",
   "metadata": {},
   "outputs": [],
   "source": [
    "plot_histogram(device_countsAB)"
   ]
  },
  {
   "cell_type": "code",
   "execution_count": null,
   "id": "838963f8-ab87-4e0d-b496-96a62161423e",
   "metadata": {},
   "outputs": [],
   "source": [
    "device_countsAB"
   ]
  },
  {
   "cell_type": "markdown",
   "id": "bf60b504-7dca-4cf7-a5ac-ce830147c509",
   "metadata": {},
   "source": [
    "**How to read the results:** The measurement, say $-1_1, 1_0$, implies that we measured $1$ (ie. $\\hbar/2$) for the spin of particle 0 along $\\mathbf{a}$, while we measrued $-1$ (ie. $-\\hbar/2$) for the spin of particle 1 along $\\mathbf{b}$. Hence $P(\\mathbf{a},\\mathbf{b}) = (-1)\\cdot1= -1$ for such a measurement. We find the average value of $P(\\mathbf{a},\\mathbf{b})$ by taking a weighted average over many repeated experiments. "
   ]
  },
  {
   "cell_type": "markdown",
   "id": "23c4a726-5a50-4cda-9cc3-abc2460dc792",
   "metadata": {},
   "source": [
    "**Exercise 5:** Determine the average value $P(\\mathbf{a},\\mathbf{b})$ of the product from the experiment above. Compare to the prediction from qauntum mechanics $P(\\mathbf{a},\\mathbf{b}) = -\\mathbf{a}\\cdot \\mathbf{b} = -\\cos(\\theta_A - \\theta_B)$. (See eg. problem 4.59 in Griffiths and Schroeter.)"
   ]
  },
  {
   "cell_type": "markdown",
   "id": "46e91672-8c16-46f4-ac8b-afc60bc799b1",
   "metadata": {},
   "source": [
    "We now repeat the exact same steps in order to get the experimental value for $P(\\mathbf{b},\\mathbf{c})$."
   ]
  },
  {
   "cell_type": "code",
   "execution_count": null,
   "id": "af981e49-db6e-44ec-b65c-f556246bbb3b",
   "metadata": {},
   "outputs": [],
   "source": [
    "circCB = QuantumCircuit(2,2)\n",
    "circCB.h(0)\n",
    "circCB.cx(0,1)\n",
    "circCB.z(1)\n",
    "circCB.x(1)\n",
    "circCB.barrier()\n",
    "theta1 = thetaC\n",
    "circCB.ry(theta1,0)\n",
    "circCB.ry(theta1,1)\n",
    "circCB.barrier() # just a vertical line which seperates where we set up the state and where we measure. \n",
    "circCB.measure(0,0)\n",
    "circCB.barrier() \n",
    "theta2 = thetaB-thetaC\n",
    "circCB.ry(theta2,0)\n",
    "circCB.ry(theta2,1)\n",
    "circCB.barrier() \n",
    "circCB.measure(1,1)\n",
    "circCB.draw()"
   ]
  },
  {
   "cell_type": "code",
   "execution_count": null,
   "id": "e06a4282-7be7-4ba1-b48a-f01ce79b0686",
   "metadata": {},
   "outputs": [],
   "source": [
    "if sim:\n",
    "    simulator = Aer.get_backend('aer_simulator')\n",
    "    Nmeasure = 1024\n",
    "    resultCB = simulator.run(circCB, shots=Nmeasure).result()\n",
    "    device_countsCB = resultCB.get_counts()\n",
    "    #Simulation code\n",
    "else:\n",
    "# Load our saved IBMQ accounts and get the least busy backend device with less than or equal to 5 qubits\n",
    "    n=3\n",
    "    IBMQ.load_account()\n",
    "    provider = IBMQ.get_provider(hub='ibm-q')\n",
    "    backend = least_busy(provider.backends(filters=lambda x: x.configuration().n_qubits >= n and \n",
    "                                       not x.configuration().simulator and x.status().operational==True))\n",
    "    print(\"least busy backend: \", backend)\n",
    "\n",
    "# Execute and monitor the job\n",
    "    from qiskit.tools.monitor import job_monitor\n",
    "    shots = 1024\n",
    "    transpiled_circ = transpile(circCB, backend, optimization_level=3)\n",
    "    qobj = assemble(transpiled_circ, shots=shots)\n",
    "    jobCB = backend.run(qobj)\n",
    "    job_monitor(jobCB, interval=2)\n",
    "    device_countsCB = jobCB.result().get_counts()\n",
    "    \n",
    "device_countsCB[r\"$1_1, 1_0$\"] = device_countsCB.pop(\"11\")\n",
    "device_countsCB[r\"$1_1, -1_0$\"] = device_countsCB.pop(\"10\")\n",
    "device_countsCB[r\"$-1_1, 1_0$\"] = device_countsCB.pop(\"01\")\n",
    "device_countsCB[r\"$-1_1, -1_0$\"] = device_countsCB.pop(\"00\")"
   ]
  },
  {
   "cell_type": "code",
   "execution_count": null,
   "id": "f1090ca6-0a5b-4f5b-8202-c3a53d1cca21",
   "metadata": {},
   "outputs": [],
   "source": [
    "plot_histogram(device_countsCB)"
   ]
  },
  {
   "cell_type": "code",
   "execution_count": null,
   "id": "bed42b02-dd74-4089-a013-7717114ed372",
   "metadata": {},
   "outputs": [],
   "source": [
    "device_countsCB"
   ]
  },
  {
   "cell_type": "markdown",
   "id": "5b1ef9ce-3017-42cf-ae43-9e41b7ca4dea",
   "metadata": {},
   "source": [
    "**Exercise 6:** Compute our experimental value for $P(\\mathbf{b},\\mathbf{c})$ from these results. Check that our experimental result is compatible with the prediction from quantum mechanics (see Exercise 5)."
   ]
  },
  {
   "cell_type": "markdown",
   "id": "84b682e9-9c50-46e6-87fe-6dc58921170e",
   "metadata": {},
   "source": [
    "Finally let's determine the experimental value for $P(\\mathbf{a},\\mathbf{c})$!"
   ]
  },
  {
   "cell_type": "code",
   "execution_count": null,
   "id": "e2bdb0c5-b407-4b4d-b162-dd0bcde610af",
   "metadata": {},
   "outputs": [],
   "source": [
    "circAC = QuantumCircuit(2,2)\n",
    "circAC.h(0)\n",
    "circAC.cx(0,1)\n",
    "circAC.z(1)\n",
    "circAC.x(1)\n",
    "circAC.barrier()\n",
    "theta1 = thetaA\n",
    "circAC.ry(theta1,0)\n",
    "circAC.ry(theta1,1)\n",
    "circAC.barrier() # just a vertical line which seperates where we set up the state and where we measure. \n",
    "circAC.measure(0,0)\n",
    "circAC.barrier() \n",
    "theta2 = thetaC-thetaA\n",
    "circAC.ry(theta2,0)\n",
    "circAC.ry(theta2,1)\n",
    "circAC.barrier() \n",
    "circAC.measure(1,1)\n",
    "circAC.draw()"
   ]
  },
  {
   "cell_type": "code",
   "execution_count": null,
   "id": "a46ce6a5-9f6c-4276-99be-dfd776fdc8d2",
   "metadata": {},
   "outputs": [],
   "source": [
    "if sim:\n",
    "    simulator = Aer.get_backend('aer_simulator')\n",
    "    Nmeasure = 1024\n",
    "    resultAC = simulator.run(circAC, shots=Nmeasure).result()\n",
    "    device_countsAC = resultAC.get_counts()\n",
    "    #Simulation code\n",
    "else:\n",
    "# Load our saved IBMQ accounts and get the least busy backend device with less than or equal to 5 qubits\n",
    "    n=3\n",
    "    IBMQ.load_account()\n",
    "    provider = IBMQ.get_provider(hub='ibm-q')\n",
    "    backend = least_busy(provider.backends(filters=lambda x: x.configuration().n_qubits >= n and \n",
    "                                       not x.configuration().simulator and x.status().operational==True))\n",
    "    print(\"least busy backend: \", backend)\n",
    "\n",
    "# Execute and monitor the job\n",
    "    from qiskit.tools.monitor import job_monitor\n",
    "    shots = 1024\n",
    "    transpiled_circ = transpile(circAC, backend, optimization_level=3)\n",
    "    qobj = assemble(transpiled_circ, shots=shots)\n",
    "    jobAC = backend.run(qobj)\n",
    "    job_monitor(jobAC, interval=2)\n",
    "    device_countsAC = jobAC.result().get_counts()\n",
    "    \n",
    "device_countsAC[r\"$1_1, 1_0$\"] = device_countsAC.pop(\"11\")\n",
    "device_countsAC[r\"$1_1, -1_0$\"] = device_countsAC.pop(\"10\")\n",
    "device_countsAC[r\"$-1_1, 1_0$\"] = device_countsAC.pop(\"01\")\n",
    "device_countsAC[r\"$-1_1, -1_0$\"] = device_countsAC.pop(\"00\")"
   ]
  },
  {
   "cell_type": "code",
   "execution_count": null,
   "id": "2926d674-e43e-4b63-8d09-81585e1149c4",
   "metadata": {},
   "outputs": [],
   "source": [
    "plot_histogram(device_countsAC)"
   ]
  },
  {
   "cell_type": "code",
   "execution_count": null,
   "id": "f2ffa399-9927-4658-b47d-a3dd733faf4f",
   "metadata": {
    "tags": []
   },
   "outputs": [],
   "source": [
    "device_countsAC"
   ]
  },
  {
   "cell_type": "markdown",
   "id": "072c30b7-e222-422a-aa91-d43ec8b91eec",
   "metadata": {},
   "source": [
    "**Exercise 7:** Compute $P(\\mathbf{a},\\mathbf{c})$ from these results.\n",
    "\n",
    "**Exercise 8:** Plug your results from Exercise 5-7 into Bell's inequality and check if it is violated.  \n",
    "\n",
    "You can compare your results to the ones determined by the code below."
   ]
  },
  {
   "cell_type": "code",
   "execution_count": null,
   "id": "6545020b-0e84-497d-83ae-2db0e74c61e2",
   "metadata": {},
   "outputs": [],
   "source": [
    "def product_av(experiment):\n",
    "    prod = experiment['$1_1, 1_0$'] + experiment['$-1_1, -1_0$'] - experiment['$-1_1, 1_0$'] - experiment['$1_1, -1_0$']\n",
    "    if sim:\n",
    "        return prod/Nmeasure\n",
    "    else:\n",
    "        return prod/shots"
   ]
  },
  {
   "cell_type": "code",
   "execution_count": null,
   "id": "60e53c24-b5ba-4767-bad2-a8448989063e",
   "metadata": {},
   "outputs": [],
   "source": [
    "print(\"Experimental results for Bell inequality: \",np.abs(product_av(device_countsAB)-product_av(device_countsAC)),\"<\",1+product_av(device_countsCB))"
   ]
  },
  {
   "cell_type": "markdown",
   "id": "17531ec4-581b-458d-bf08-de51335be60c",
   "metadata": {},
   "source": [
    "**Truly remakable!** We have verified through a real quantum experiment that Bell's inequality is violated - as a consequence, we have shown that the results of quantum experiments are incompatible with any theory of hidden variables. "
   ]
  },
  {
   "cell_type": "markdown",
   "id": "3a596b7c-9e37-4da6-b47a-246671454ddb",
   "metadata": {},
   "source": [
    "**Is Bell's inequality violated for all angles?** The plot below shows which angles between $\\mathbf{a}$ and $\\mathbf{c}$ violate Bell's inequality, assuming that $\\mathbf{a}$ and $\\mathbf{b}$ are orthogonal and all vectors are coplanar."
   ]
  },
  {
   "cell_type": "code",
   "execution_count": null,
   "id": "6666d79b-7bfc-4438-be0c-5b496716f76e",
   "metadata": {},
   "outputs": [],
   "source": [
    "N = 1000\n",
    "\n",
    "thetaB = np.pi/2\n",
    "thetaC_arr = np.linspace(-1,1,N)*np.pi\n",
    "\n",
    "shade_top = 2*np.ones(N)\n",
    "shade_bottom = -0.5*shade_top\n",
    "\n",
    "lhs = np.abs(-np.cos(-1*thetaB) + np.cos(-1*thetaC_arr))\n",
    "rhs = 1 - np.cos(thetaB - thetaC_arr)\n",
    "\n",
    "violation = lhs > rhs\n",
    "\n",
    "plt.figure(facecolor = 'white')\n",
    "plt.plot(thetaC_arr, lhs, label = r\"|P(a,b) - P(b,c)|\")\n",
    "plt.plot(thetaC_arr, rhs, label = \"1 + P(b,c)\")\n",
    "plt.xlabel(\"thetaC [rad]\")\n",
    "plt.legend(loc = 'lower left')\n",
    "plt.fill_between(thetaC_arr[violation],shade_top[violation], y2=shade_bottom[violation], alpha=0.3, color = 'green')\n",
    "plt.text(0.05,-0.5,\"Violation region\", size = 9)\n",
    "plt.title(\"Bell's inequality\")\n",
    "plt.savefig(\"Bell.png\")"
   ]
  },
  {
   "cell_type": "markdown",
   "id": "a212a4ba-1892-41df-96cb-6d1a9de2f9e8",
   "metadata": {},
   "source": [
    "Feel free to change the angles at the top of the exercises to test if this is true! \n"
   ]
  }
 ],
 "metadata": {
  "kernelspec": {
   "display_name": "Python 3 (ipykernel)",
   "language": "python",
   "name": "python3"
  },
  "language_info": {
   "codemirror_mode": {
    "name": "ipython",
    "version": 3
   },
   "file_extension": ".py",
   "mimetype": "text/x-python",
   "name": "python",
   "nbconvert_exporter": "python",
   "pygments_lexer": "ipython3",
   "version": "3.10.8"
  },
  "widgets": {
   "application/vnd.jupyter.widget-state+json": {
    "state": {
     "073bfda4ff754d68905fe751c1c673e4": {
      "model_module": "@jupyter-widgets/base",
      "model_module_version": "2.0.0",
      "model_name": "LayoutModel",
      "state": {
       "width": "95px"
      }
     },
     "09dc8012fd1746c08574a083b66fb66a": {
      "model_module": "@jupyter-widgets/base",
      "model_module_version": "2.0.0",
      "model_name": "LayoutModel",
      "state": {
       "width": "145px"
      }
     },
     "0f7c7e9d347745fbadf6f4789393f07f": {
      "model_module": "@jupyter-widgets/controls",
      "model_module_version": "2.0.0",
      "model_name": "HTMLModel",
      "state": {
       "layout": "IPY_MODEL_9f58647b01d74079b129e98a7b13a239",
       "style": "IPY_MODEL_aa82f9d02ce54823bcc0d8d953487e75",
       "value": "641af463296d622085c744b4"
      }
     },
     "13cf0f970e074c08a7034c17027085c2": {
      "model_module": "@jupyter-widgets/base",
      "model_module_version": "2.0.0",
      "model_name": "LayoutModel",
      "state": {
       "width": "70px"
      }
     },
     "18c4c67b8f41452e9be41e7cd64bd19f": {
      "model_module": "@jupyter-widgets/controls",
      "model_module_version": "2.0.0",
      "model_name": "HTMLModel",
      "state": {
       "layout": "IPY_MODEL_4d9fe3431556466fb5b47afca70dfbec",
       "style": "IPY_MODEL_22c23c8b5bbe404da987d85a4a47daee",
       "value": "119"
      }
     },
     "216435138a414c518ddc0b2f46c6a59c": {
      "model_module": "@jupyter-widgets/controls",
      "model_module_version": "2.0.0",
      "model_name": "HTMLModel",
      "state": {
       "layout": "IPY_MODEL_6f005a9481e743479be78a0e87576872",
       "style": "IPY_MODEL_acdab7961fd147838ec5592f7cf6defa",
       "value": "<h5>Message</h5>"
      }
     },
     "22c23c8b5bbe404da987d85a4a47daee": {
      "model_module": "@jupyter-widgets/controls",
      "model_module_version": "2.0.0",
      "model_name": "HTMLStyleModel",
      "state": {
       "description_width": "",
       "font_size": null,
       "text_color": null
      }
     },
     "24bd54c36d3e48d6809e2837ea40850e": {
      "model_module": "@jupyter-widgets/base",
      "model_module_version": "2.0.0",
      "model_name": "LayoutModel",
      "state": {
       "margin": "0px 0px 10px 0px"
      }
     },
     "35bb81ff4c324a45bef3406e587650b6": {
      "model_module": "@jupyter-widgets/base",
      "model_module_version": "2.0.0",
      "model_name": "LayoutModel",
      "state": {
       "width": "190px"
      }
     },
     "3c938eb0ff77471e85d6aa6176545d59": {
      "model_module": "@jupyter-widgets/controls",
      "model_module_version": "2.0.0",
      "model_name": "HTMLStyleModel",
      "state": {
       "description_width": "",
       "font_size": null,
       "text_color": null
      }
     },
     "45ae977f9713467991dd60f188440280": {
      "model_module": "@jupyter-widgets/controls",
      "model_module_version": "2.0.0",
      "model_name": "HTMLStyleModel",
      "state": {
       "description_width": "",
       "font_size": null,
       "text_color": null
      }
     },
     "4c78af3833d84e0e999938c3f0698b9f": {
      "model_module": "@jupyter-widgets/base",
      "model_module_version": "2.0.0",
      "model_name": "LayoutModel",
      "state": {
       "grid_template_areas": "\n                                       \". . . . right \"\n                                        ",
       "grid_template_columns": "20% 20% 20% 20% 20%",
       "width": "100%"
      }
     },
     "4d9fe3431556466fb5b47afca70dfbec": {
      "model_module": "@jupyter-widgets/base",
      "model_module_version": "2.0.0",
      "model_name": "LayoutModel",
      "state": {
       "width": "70px"
      }
     },
     "51ddd5d4fbbf4f29b9ae26547c2b4e76": {
      "model_module": "@jupyter-widgets/controls",
      "model_module_version": "2.0.0",
      "model_name": "HBoxModel",
      "state": {
       "children": [
        "IPY_MODEL_f6c162211f694718b8bff2a03d532b82",
        "IPY_MODEL_0f7c7e9d347745fbadf6f4789393f07f",
        "IPY_MODEL_906da1db523b4d8386016fd577aeec27",
        "IPY_MODEL_6c9630528f924c25a677aed077803e67",
        "IPY_MODEL_18c4c67b8f41452e9be41e7cd64bd19f",
        "IPY_MODEL_ed6c20a334d24c6d814236681e3a32fa"
       ],
       "layout": "IPY_MODEL_fdf1eb89af614389a7d014758cf6e72e"
      }
     },
     "57af9351a4c34fb491ae29c8e5896dee": {
      "model_module": "@jupyter-widgets/controls",
      "model_module_version": "2.0.0",
      "model_name": "GridBoxModel",
      "state": {
       "children": [
        "IPY_MODEL_78f11c1e2650475099d20155ece67da6"
       ],
       "layout": "IPY_MODEL_4c78af3833d84e0e999938c3f0698b9f"
      }
     },
     "5d926da1da6f446685996ab62a3ee56f": {
      "model_module": "@jupyter-widgets/base",
      "model_module_version": "2.0.0",
      "model_name": "LayoutModel",
      "state": {
       "margin": "0px 5px 0px 0px",
       "width": "32px"
      }
     },
     "681f162e922d42c383d1222f39ec31bf": {
      "model_module": "@jupyter-widgets/controls",
      "model_module_version": "2.0.0",
      "model_name": "HTMLModel",
      "state": {
       "layout": "IPY_MODEL_13cf0f970e074c08a7034c17027085c2",
       "style": "IPY_MODEL_99ec65f9410649728607de4673ab181f",
       "value": "<h5>Queue</h5>"
      }
     },
     "6c9630528f924c25a677aed077803e67": {
      "model_module": "@jupyter-widgets/controls",
      "model_module_version": "2.0.0",
      "model_name": "HTMLModel",
      "state": {
       "layout": "IPY_MODEL_e30b56d89cb5499d9eb0f8e131912253",
       "style": "IPY_MODEL_7ab47f1cef42410ba329bb7f444bb439",
       "value": "QUEUED"
      }
     },
     "6f005a9481e743479be78a0e87576872": {
      "model_module": "@jupyter-widgets/base",
      "model_module_version": "2.0.0",
      "model_name": "LayoutModel",
      "state": {}
     },
     "78f11c1e2650475099d20155ece67da6": {
      "model_module": "@jupyter-widgets/controls",
      "model_module_version": "2.0.0",
      "model_name": "ButtonModel",
      "state": {
       "button_style": "primary",
       "description": "Clear",
       "layout": "IPY_MODEL_8db8ad9e150c47f59aaf544626014dd9",
       "style": "IPY_MODEL_f2afd5cf4d644269a19d7d26640188d5",
       "tooltip": null
      }
     },
     "79a884f1b7e04b909b692e91025142b2": {
      "model_module": "@jupyter-widgets/controls",
      "model_module_version": "2.0.0",
      "model_name": "ButtonStyleModel",
      "state": {
       "button_color": "white",
       "font_family": null,
       "font_size": null,
       "font_style": null,
       "font_variant": null,
       "font_weight": null,
       "text_color": null,
       "text_decoration": null
      }
     },
     "7ab47f1cef42410ba329bb7f444bb439": {
      "model_module": "@jupyter-widgets/controls",
      "model_module_version": "2.0.0",
      "model_name": "HTMLStyleModel",
      "state": {
       "description_width": "",
       "font_size": null,
       "text_color": null
      }
     },
     "85a74c0435d846dfbb9249610922a54a": {
      "model_module": "@jupyter-widgets/controls",
      "model_module_version": "2.0.0",
      "model_name": "HTMLStyleModel",
      "state": {
       "description_width": "",
       "font_size": null,
       "text_color": null
      }
     },
     "8db8ad9e150c47f59aaf544626014dd9": {
      "model_module": "@jupyter-widgets/base",
      "model_module_version": "2.0.0",
      "model_name": "LayoutModel",
      "state": {
       "grid_area": "right",
       "padding": "0px 0px 0px 0px",
       "width": "70px"
      }
     },
     "8fc03a8f41484b9ca30b99896660830d": {
      "model_module": "@jupyter-widgets/base",
      "model_module_version": "2.0.0",
      "model_name": "LayoutModel",
      "state": {
       "width": "145px"
      }
     },
     "906da1db523b4d8386016fd577aeec27": {
      "model_module": "@jupyter-widgets/controls",
      "model_module_version": "2.0.0",
      "model_name": "HTMLModel",
      "state": {
       "layout": "IPY_MODEL_8fc03a8f41484b9ca30b99896660830d",
       "style": "IPY_MODEL_99c5db205bcd479cae73e14daa9b88fd",
       "value": "ibm_oslo"
      }
     },
     "95b863f31b78427c9b7f53ddd1df77a3": {
      "model_module": "@jupyter-widgets/controls",
      "model_module_version": "2.0.0",
      "model_name": "HTMLModel",
      "state": {
       "layout": "IPY_MODEL_24bd54c36d3e48d6809e2837ea40850e",
       "style": "IPY_MODEL_b372ea19c50c4fcdab72f5f245a5ec3b",
       "value": "<p style='font-family: IBM Plex Sans, Arial, Helvetica, sans-serif; font-size: 20px; font-weight: medium;'>Circuit Properties</p>"
      }
     },
     "99c5db205bcd479cae73e14daa9b88fd": {
      "model_module": "@jupyter-widgets/controls",
      "model_module_version": "2.0.0",
      "model_name": "HTMLStyleModel",
      "state": {
       "description_width": "",
       "font_size": null,
       "text_color": null
      }
     },
     "99ec65f9410649728607de4673ab181f": {
      "model_module": "@jupyter-widgets/controls",
      "model_module_version": "2.0.0",
      "model_name": "HTMLStyleModel",
      "state": {
       "description_width": "",
       "font_size": null,
       "text_color": null
      }
     },
     "9b9e9aaf5dac474f9eeec9a425379f63": {
      "model_module": "@jupyter-widgets/controls",
      "model_module_version": "2.0.0",
      "model_name": "HTMLModel",
      "state": {
       "layout": "IPY_MODEL_09dc8012fd1746c08574a083b66fb66a",
       "style": "IPY_MODEL_3c938eb0ff77471e85d6aa6176545d59",
       "value": "<h5>Backend</h5>"
      }
     },
     "9f58647b01d74079b129e98a7b13a239": {
      "model_module": "@jupyter-widgets/base",
      "model_module_version": "2.0.0",
      "model_name": "LayoutModel",
      "state": {
       "width": "190px"
      }
     },
     "a9368a654c804ee1b3ff430b0087f08b": {
      "model_module": "@jupyter-widgets/controls",
      "model_module_version": "2.0.0",
      "model_name": "HTMLModel",
      "state": {
       "layout": "IPY_MODEL_35bb81ff4c324a45bef3406e587650b6",
       "style": "IPY_MODEL_85a74c0435d846dfbb9249610922a54a",
       "value": "<h5>Job ID</h5>"
      }
     },
     "aa82f9d02ce54823bcc0d8d953487e75": {
      "model_module": "@jupyter-widgets/controls",
      "model_module_version": "2.0.0",
      "model_name": "HTMLStyleModel",
      "state": {
       "description_width": "",
       "font_size": null,
       "text_color": null
      }
     },
     "acdab7961fd147838ec5592f7cf6defa": {
      "model_module": "@jupyter-widgets/controls",
      "model_module_version": "2.0.0",
      "model_name": "HTMLStyleModel",
      "state": {
       "description_width": "",
       "font_size": null,
       "text_color": null
      }
     },
     "b372ea19c50c4fcdab72f5f245a5ec3b": {
      "model_module": "@jupyter-widgets/controls",
      "model_module_version": "2.0.0",
      "model_name": "HTMLStyleModel",
      "state": {
       "description_width": "",
       "font_size": null,
       "text_color": null
      }
     },
     "b6bfd3d4d6e443349dc11a05bcd466a7": {
      "model_module": "@jupyter-widgets/controls",
      "model_module_version": "2.0.0",
      "model_name": "HTMLStyleModel",
      "state": {
       "description_width": "",
       "font_size": null,
       "text_color": null
      }
     },
     "be8e05cd0f5d4749bb03c7ea527261a7": {
      "model_module": "@jupyter-widgets/base",
      "model_module_version": "2.0.0",
      "model_name": "LayoutModel",
      "state": {}
     },
     "e30b56d89cb5499d9eb0f8e131912253": {
      "model_module": "@jupyter-widgets/base",
      "model_module_version": "2.0.0",
      "model_name": "LayoutModel",
      "state": {
       "width": "95px"
      }
     },
     "ed6c20a334d24c6d814236681e3a32fa": {
      "model_module": "@jupyter-widgets/controls",
      "model_module_version": "2.0.0",
      "model_name": "HTMLModel",
      "state": {
       "layout": "IPY_MODEL_be8e05cd0f5d4749bb03c7ea527261a7",
       "style": "IPY_MODEL_45ae977f9713467991dd60f188440280",
       "value": "job is queued"
      }
     },
     "f2afd5cf4d644269a19d7d26640188d5": {
      "model_module": "@jupyter-widgets/controls",
      "model_module_version": "2.0.0",
      "model_name": "ButtonStyleModel",
      "state": {
       "font_family": null,
       "font_size": null,
       "font_style": null,
       "font_variant": null,
       "font_weight": null,
       "text_color": null,
       "text_decoration": null
      }
     },
     "f3d9b8ec7265458090e4932253e8b881": {
      "model_module": "@jupyter-widgets/controls",
      "model_module_version": "2.0.0",
      "model_name": "HBoxModel",
      "state": {
       "children": [
        "IPY_MODEL_a9368a654c804ee1b3ff430b0087f08b",
        "IPY_MODEL_9b9e9aaf5dac474f9eeec9a425379f63",
        "IPY_MODEL_fa91193640924ebd8f52fd360d4d4c31",
        "IPY_MODEL_681f162e922d42c383d1222f39ec31bf",
        "IPY_MODEL_216435138a414c518ddc0b2f46c6a59c"
       ],
       "layout": "IPY_MODEL_fe42956b08724da38372abf870dce717"
      }
     },
     "f6c162211f694718b8bff2a03d532b82": {
      "model_module": "@jupyter-widgets/controls",
      "model_module_version": "2.0.0",
      "model_name": "ButtonModel",
      "state": {
       "icon": "close",
       "layout": "IPY_MODEL_5d926da1da6f446685996ab62a3ee56f",
       "style": "IPY_MODEL_79a884f1b7e04b909b692e91025142b2",
       "tooltip": null
      }
     },
     "fa91193640924ebd8f52fd360d4d4c31": {
      "model_module": "@jupyter-widgets/controls",
      "model_module_version": "2.0.0",
      "model_name": "HTMLModel",
      "state": {
       "layout": "IPY_MODEL_073bfda4ff754d68905fe751c1c673e4",
       "style": "IPY_MODEL_b6bfd3d4d6e443349dc11a05bcd466a7",
       "value": "<h5>Status</h5>"
      }
     },
     "fdf1eb89af614389a7d014758cf6e72e": {
      "model_module": "@jupyter-widgets/base",
      "model_module_version": "2.0.0",
      "model_name": "LayoutModel",
      "state": {
       "max_width": "700px",
       "min_width": "700px"
      }
     },
     "fe42956b08724da38372abf870dce717": {
      "model_module": "@jupyter-widgets/base",
      "model_module_version": "2.0.0",
      "model_name": "LayoutModel",
      "state": {
       "margin": "0px 0px 0px 37px",
       "width": "600px"
      }
     }
    },
    "version_major": 2,
    "version_minor": 0
   }
  }
 },
 "nbformat": 4,
 "nbformat_minor": 5
}
