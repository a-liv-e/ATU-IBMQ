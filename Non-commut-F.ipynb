{
 "cells": [
  {
   "cell_type": "markdown",
   "id": "9fbe564b",
   "metadata": {},
   "source": [
    "# Non-commutation of rotations\n",
    "\n",
    "In quantum mechanics the order in which operators act is often essential. This exercise takes us trough a couple of examples, which illustrates this. \n",
    "\n",
    "**Learning goal:** To realize the importance of the order in which operators act.\n"
   ]
  },
  {
   "cell_type": "markdown",
   "id": "26eb5b10",
   "metadata": {},
   "source": [
    "# The q-bit as a spin 1/2 system\n",
    "\n",
    "Throughout this exercise we use only a single q-bit. We will think of this q-bit as a spin 1/2 system, identifying the q-bit state $|0\\rangle$ with the state $|s,m\\rangle=|1/2,-1/2\\rangle$ and likevise identify $|1\\rangle$ with $|s,m\\rangle=|1/2,1/2\\rangle$. If we measure the q-bit and find '0' ('1') the intrepretaion therefore is that we have measured $S_z$ and found the value $-\\hbar/2$ ($\\hbar/2$).\n"
   ]
  },
  {
   "cell_type": "markdown",
   "id": "70cb5db5",
   "metadata": {},
   "source": [
    "Let's start the system in the state \n",
    "\n",
    "\\begin{equation}\n",
    "|\\psi\\rangle = |1/2,1/2⟩\n",
    "\\end{equation}\n",
    "\n",
    "and then perform a rotation around the $z$-axis through the angle $\\phi=\\pi$. \n",
    "\n",
    "In the basis ($|1/2,1/2\\rangle,|1/2,-1/2\\rangle$) the state $|1/2,1/2⟩$ is represented by\n",
    "\n",
    "\\begin{equation}\n",
    "\\left(\\begin{array}{c} 1 \\\\ 0 \\end{array}\\right)\n",
    "\\end{equation}\n",
    "\n",
    "and the operator performing rotations around the $z$-axis is \n",
    "\n",
    "\\begin{equation}\n",
    "R_z(\\phi) = \\left(\\begin{array}{cc} e^{-i\\phi/2} & 0 \\\\ 0 & e^{i\\phi/2} \\end{array}\\right) \\ .\n",
    "\\end{equation}\n",
    "\n",
    "We will first rotate and then measure the $S_z$.\n",
    "\n",
    "**Exercise 1 / Your prediction:** Predict the outcome of the measurement. Does the result depend on $\\phi$?\n",
    "\n",
    "\n",
    "Now let's test your prediction!"
   ]
  },
  {
   "cell_type": "code",
   "execution_count": null,
   "id": "8b45b8b3",
   "metadata": {},
   "outputs": [],
   "source": [
    "# Importing standard Qiskit libraries\n",
    "from qiskit import QuantumCircuit, transpile, Aer, IBMQ\n",
    "from qiskit.tools.jupyter import *\n",
    "from qiskit.visualization import*\n",
    "from ibm_quantum_widgets import *\n",
    "\n",
    "# Loading your IBM Q account(s)\n",
    "provider = IBMQ.load_account()"
   ]
  },
  {
   "cell_type": "code",
   "execution_count": null,
   "id": "e573a56d",
   "metadata": {
    "scrolled": true
   },
   "outputs": [],
   "source": [
    "from math import pi\n",
    "circ = QuantumCircuit(1,1)\n",
    "phi = pi #Sets the angle of rotation - feel free to try different values of this variable!\n",
    "circ.rz(phi,0)\n",
    "circ.barrier()\n",
    "circ.measure(0,0)\n",
    "circ.draw()"
   ]
  },
  {
   "cell_type": "markdown",
   "id": "59bee4ef-f746-47fd-9149-621bcb9e7379",
   "metadata": {},
   "source": [
    "**Notation:** The vertical grey band with the black dashed line in the middle is just there for visual purposes. It does not make any operation."
   ]
  },
  {
   "cell_type": "code",
   "execution_count": null,
   "id": "df624c51",
   "metadata": {},
   "outputs": [],
   "source": [
    "simulator = Aer.get_backend('aer_simulator')\n",
    "\n",
    "result = simulator.run(circ, shots=10, memory=True).result()\n",
    "memory = result.get_memory(circ)\n",
    "\n",
    "ints = [eval(x)-1/2 for x in memory]\n",
    "print(\"Measurements of S_z in units of hbar:\", ints)"
   ]
  },
  {
   "cell_type": "markdown",
   "id": "70f1ca7b",
   "metadata": {},
   "source": [
    "**Exercise 2 / Evaluate:** Does the result correspond to your prediction?\n",
    "\n",
    "Above we chose the value $\\phi=\\pi$, was this essential for your prediction? What happens if you change the value and run the code again?\n"
   ]
  },
  {
   "cell_type": "markdown",
   "id": "f73ffd51",
   "metadata": {},
   "source": [
    "Next let us consider a rotation about the $x$-axis\n",
    "\n",
    "In the basis ($|1/2,1/2\\rangle,|1/2,-1/2\\rangle$) the (unitary) operator performing rotations around the $x$-axis is \n",
    "\n",
    "\\begin{equation}\n",
    "R_x(\\theta) = \\left(\\begin{array}{cc} \\cos(\\theta/2) & -i\\sin(\\theta/2) \\\\ -i\\sin(\\theta/2) & \\cos(\\theta/2) \\end{array}\\right) \\ .\n",
    "\\end{equation}\n",
    "\n",
    "Let's replace the $R_z(\\phi)$ rotation we did above by $R_x(\\theta)$ with $\\theta=\\pi/2$ and repeat the experiment.  "
   ]
  },
  {
   "cell_type": "code",
   "execution_count": null,
   "id": "270252d2",
   "metadata": {},
   "outputs": [],
   "source": [
    "from math import pi\n",
    "circ = QuantumCircuit(1,1)\n",
    "theta = pi/2\n",
    "circ.rx(theta,0)\n",
    "circ.barrier()\n",
    "circ.measure(0,0)\n",
    "circ.draw()"
   ]
  },
  {
   "cell_type": "code",
   "execution_count": null,
   "id": "bed0a05c",
   "metadata": {},
   "outputs": [],
   "source": [
    "simulator = Aer.get_backend('aer_simulator')\n",
    "\n",
    "result = simulator.run(circ, shots=10, memory=True).result()\n",
    "memory = result.get_memory(circ)\n",
    "\n",
    "ints = [eval(x)-1/2 for x in memory]\n",
    "print(\"Measurements of S_z in units of hbar:\", ints)"
   ]
  },
  {
   "cell_type": "markdown",
   "id": "6554933b",
   "metadata": {},
   "source": [
    "**Exercise 3:** Explain the outcome of the experiment."
   ]
  },
  {
   "cell_type": "markdown",
   "id": "f20e1a5c",
   "metadata": {},
   "source": [
    "To see that the order of the rotation operators matter consider the following rotations  $R_x(-\\theta)R_z(\\phi)R_x(\\theta)$. If we could swap the order of the operations we could rewrite this as $R_x(-\\theta)R_x(\\theta)R_z(\\phi)=R_z(\\phi)$ (**wrong!). However, as we will see explicitly this is not the case. \n",
    "\n",
    "**Exercise 4:** Above we used that $R_x(-\\theta)R_x(\\theta)=1$. Show this identity using the matrix representation of $R_x(\\theta)$ and give your intrepretation of this result.\n",
    "\n",
    "Let's now perform an experiment with the rotations  $R_x(\\theta)R_z(\\phi)R_x(-\\theta)$ and compare it to the result we got using just $R_z(\\phi)$. We will use the values $\\theta=\\pi/2$ and $\\phi=\\pi$. \n",
    "\n"
   ]
  },
  {
   "cell_type": "code",
   "execution_count": null,
   "id": "11fb1986",
   "metadata": {},
   "outputs": [],
   "source": [
    "from math import pi\n",
    "circ = QuantumCircuit(1,1)\n",
    "theta = pi/2\n",
    "phi = pi\n",
    "circ.rx(theta,0)\n",
    "circ.rz(phi,0)\n",
    "circ.rx(-theta,0)\n",
    "circ.barrier()\n",
    "circ.measure(0,0)\n",
    "circ.draw()"
   ]
  },
  {
   "cell_type": "code",
   "execution_count": null,
   "id": "07ca754f",
   "metadata": {},
   "outputs": [],
   "source": [
    "simulator = Aer.get_backend('aer_simulator')\n",
    "\n",
    "result = simulator.run(circ, shots=10, memory=True).result()\n",
    "memory = result.get_memory(circ)\n",
    "\n",
    "ints = [eval(x)-1/2 for x in memory]\n",
    "print(\"Measurements of S_z in units of hbar:\", ints)"
   ]
  },
  {
   "cell_type": "markdown",
   "id": "987abd57",
   "metadata": {},
   "source": [
    "Compared to the case where we only had $R_z(\\phi)$ we now get completely the opposite result!\n",
    "\n",
    "**Exercise 5:** Explicitly compute the matrix representing $R_x(-\\theta)R_z(\\phi)R_x(\\theta)$ and let it act on the state $|1/2,1/2\\rangle$. Why does your result explain the outcome of the measurement above? (Don't forget that we use the values $\\theta=\\pi/2$ and $\\phi=\\pi$.)"
   ]
  },
  {
   "cell_type": "markdown",
   "id": "d4401044",
   "metadata": {},
   "source": [
    "**Take home:** The order in which operators act in general matters. As an example we have here worked with rotations around the $z$-axis and around the $x$-axis which do not commute. "
   ]
  }
 ],
 "metadata": {
  "kernelspec": {
   "display_name": "Python 3 (ipykernel)",
   "language": "python",
   "name": "python3"
  },
  "language_info": {
   "codemirror_mode": {
    "name": "ipython",
    "version": 3
   },
   "file_extension": ".py",
   "mimetype": "text/x-python",
   "name": "python",
   "nbconvert_exporter": "python",
   "pygments_lexer": "ipython3",
   "version": "3.8.15"
  },
  "widgets": {
   "application/vnd.jupyter.widget-state+json": {
    "state": {},
    "version_major": 2,
    "version_minor": 0
   }
  }
 },
 "nbformat": 4,
 "nbformat_minor": 5
}
