{
 "cells": [
  {
   "cell_type": "markdown",
   "id": "680524c7-bdf4-481c-87e2-05aeed7a7fde",
   "metadata": {},
   "source": [
    "# IBM Q Exercise 2: Measuring two (non-entangled) qubits\n",
    "### Written by Anna Liv Paludan Bjerregaard"
   ]
  },
  {
   "cell_type": "markdown",
   "id": "6ad692a3-e1e8-4a7c-8b8d-fed8c3b57bdd",
   "metadata": {},
   "source": [
    "In this exercise we expand our knowledge of quantum circuits from one qubit to two qubits!\n",
    "\n",
    "We'll start right away by making a circuit!"
   ]
  },
  {
   "cell_type": "code",
   "execution_count": 1,
   "id": "94c020e0-0a13-4680-80ca-d752cafeb07a",
   "metadata": {
    "tags": []
   },
   "outputs": [
    {
     "name": "stderr",
     "output_type": "stream",
     "text": [
      "/tmp/ipykernel_96/4023411004.py:12: DeprecationWarning: The qiskit.IBMQ entrypoint and the qiskit-ibmq-provider package (accessible from 'qiskit.providers.ibmq`) are deprecated and will be removed in a future release. Instead you should use the qiskit-ibm-provider package which is accessible from 'qiskit_ibm_provider'. You can install it with 'pip install qiskit_ibm_provider'. Just replace 'qiskit.IBMQ' with 'qiskit_ibm_provider.IBMProvider'\n",
      "  provider = IBMQ.load_account()\n"
     ]
    }
   ],
   "source": [
    "import numpy as np\n",
    "import matplotlib.pyplot as plt\n",
    "# Importing standard Qiskit libraries\n",
    "from qiskit.providers.ibmq import least_busy\n",
    "from qiskit import QuantumCircuit, transpile, Aer, IBMQ, assemble\n",
    "\n",
    "from qiskit.tools.jupyter import *\n",
    "from qiskit.visualization import *\n",
    "from ibm_quantum_widgets import *\n",
    "\n",
    "# Loading your IBM Q account(s)\n",
    "provider = IBMQ.load_account()"
   ]
  },
  {
   "cell_type": "code",
   "execution_count": 2,
   "id": "8ff098fe-0cfc-4de0-ac5b-1ddba47b487d",
   "metadata": {
    "tags": []
   },
   "outputs": [
    {
     "data": {
      "image/png": "[encoded data removed]",
      "text/plain": [
       "<Figure size 454.517x284.278 with 1 Axes>"
      ]
     },
     "execution_count": 2,
     "metadata": {},
     "output_type": "execute_result"
    }
   ],
   "source": [
    "circuit = QuantumCircuit(2,2)\n",
    "circuit.x(1)\n",
    "circuit.barrier()\n",
    "circuit.measure(0,0)\n",
    "circuit.measure(1,1)\n",
    "circuit.draw()"
   ]
  },
  {
   "cell_type": "markdown",
   "id": "71e429d1-3edb-458d-bf3b-d440c29f75f3",
   "metadata": {},
   "source": [
    "Notice that we now have two lines marked \"$q$\" since we have two qubits. They have the subscripts \"0\" and \"1\" since Python (and most other programming languages) count from 0. So $q_o$ is the first qubit, and $q_1$ is the second. We use the operator $X$ on the second qubit. Notice as well that we make two measurements - first we measure the first qubit and then the second. Don't mind the grey barrier, it is only there for aesthetic purposes.\n",
    "\n",
    "\n",
    "**Exercise:** What state is each qubit in? What is the total state of the system?\n",
    "In the code below a measurement is performed on the system, what are the possible outcomes?"
   ]
  },
  {
   "cell_type": "code",
   "execution_count": 3,
   "id": "5b8c2a29-f129-4cff-9bae-8ac98637b5b9",
   "metadata": {
    "tags": []
   },
   "outputs": [],
   "source": [
    "sim = True\n",
    "N_measure = 100"
   ]
  },
  {
   "cell_type": "code",
   "execution_count": 4,
   "id": "c549371e-9542-41c9-bba0-d4ab8bc8dbf6",
   "metadata": {
    "tags": []
   },
   "outputs": [
    {
     "name": "stdout",
     "output_type": "stream",
     "text": [
      "{'00': 0, '10': 100, '01': 0, '11': 0}\n"
     ]
    },
    {
     "data": {
      "image/png": "[encoded data removed]",
      "text/plain": [
       "<Figure size 700x500 with 1 Axes>"
      ]
     },
     "execution_count": 4,
     "metadata": {},
     "output_type": "execute_result"
    }
   ],
   "source": [
    "if sim:\n",
    "    simulator = Aer.get_backend('aer_simulator')\n",
    "    Nmeasure = N_measure #Amount of times the circuit is run\n",
    "    result = simulator.run(circuit, shots=Nmeasure).result() \n",
    "    device_counts = result.get_counts() #Saves results as dictionary object\n",
    "    #Simulation code\n",
    "else:\n",
    "# Load our saved IBMQ accounts and get the least busy backend device with less than or equal to 5 qubits\n",
    "    n=3\n",
    "    IBMQ.load_account()\n",
    "    provider = IBMQ.get_provider(hub='ibm-q')\n",
    "    backend = least_busy(provider.backends(filters=lambda x: x.configuration().n_qubits >= n and \n",
    "                                       not x.configuration().simulator and x.status().operational==True))\n",
    "    #Finds the least busy quantum computer on the IBM Q network\n",
    "    print(\"least busy backend: \", backend)\n",
    "\n",
    "# Execute and monitor the job\n",
    "    from qiskit.tools.monitor import job_monitor\n",
    "    shots = N_measure\n",
    "    transpiled_circ = transpile(circuit, backend, optimization_level=3) \n",
    "    qobj = assemble(transpiled_circ, shots=shots)\n",
    "    job = backend.run(qobj) #Send circuit to the quantum computer\n",
    "    job_monitor(job, interval=2)\n",
    "    device_counts = job.result().get_counts()\n",
    "\n",
    "possible_measurements = ['00','10','01','11']\n",
    "measurement_names = ['00','10','01','11']\n",
    "\n",
    "for name, measurement in zip(measurement_names, possible_measurements):\n",
    "    try:\n",
    "        device_counts[name] = device_counts.pop(measurement)\n",
    "    except:\n",
    "        device_counts[name] = 0\n",
    "\n",
    "print(device_counts)\n",
    "plot_histogram(device_counts)"
   ]
  },
  {
   "cell_type": "markdown",
   "id": "fe5f7042-b962-4c50-8273-807c6550760f",
   "metadata": {},
   "source": [
    "Explain the histogram. Does it agree with your expectations?\n",
    "\n",
    "Now let's try replacing the operator $X$ with $H$."
   ]
  },
  {
   "cell_type": "code",
   "execution_count": null,
   "id": "a3107016-4622-4d4f-9c60-95e7c8f85d5d",
   "metadata": {},
   "outputs": [],
   "source": [
    "circuitH = QuantumCircuit(2,2)\n",
    "circuitH.h(1)\n",
    "circuitH.barrier()\n",
    "circuitH.measure(0,0)\n",
    "circuitH.measure(1,1)\n",
    "circuitH.draw()"
   ]
  },
  {
   "cell_type": "markdown",
   "id": "8be94c99-f797-4594-a6ab-f2dc64db5741",
   "metadata": {},
   "source": [
    "**Exercise:** What state are the qubits in before the measurement? What are the possible outcomes of the measurement? With what propability do these outcomes occur?"
   ]
  },
  {
   "cell_type": "code",
   "execution_count": null,
   "id": "f6d6d65b-a659-4715-b4ec-6a9675672154",
   "metadata": {},
   "outputs": [],
   "source": [
    "sim = True\n",
    "N_measure = 1024"
   ]
  },
  {
   "cell_type": "code",
   "execution_count": null,
   "id": "acd42873-6f2c-4450-9abf-8213573e70d7",
   "metadata": {},
   "outputs": [],
   "source": [
    "if sim:\n",
    "    simulator = Aer.get_backend('aer_simulator')\n",
    "    Nmeasure = N_measure #Amount of times the circuit is run\n",
    "    result = simulator.run(circuitH, shots=Nmeasure).result() \n",
    "    device_counts = result.get_counts() #Saves results as dictionary object\n",
    "    #Simulation code\n",
    "else:\n",
    "# Load our saved IBMQ accounts and get the least busy backend device with less than or equal to 5 qubits\n",
    "    n=3\n",
    "    IBMQ.load_account()\n",
    "    provider = IBMQ.get_provider(hub='ibm-q')\n",
    "    backend = least_busy(provider.backends(filters=lambda x: x.configuration().n_qubits >= n and \n",
    "                                       not x.configuration().simulator and x.status().operational==True))\n",
    "    #Finds the least busy quantum computer on the IBM Q network\n",
    "    print(\"least busy backend: \", backend)\n",
    "\n",
    "# Execute and monitor the job\n",
    "    from qiskit.tools.monitor import job_monitor\n",
    "    shots = 1024\n",
    "    transpiled_circ = transpile(circuitH, backend, optimization_level=3) \n",
    "    qobj = assemble(transpiled_circ, shots=shots)\n",
    "    job = backend.run(qobj) #Send circuit to the quantum computer\n",
    "    job_monitor(job, interval=2)\n",
    "    device_counts = job.result().get_counts()\n",
    "\n",
    "possible_measurements = ['00','10','01','11']\n",
    "measurement_names = ['00','10','01','11']\n",
    "\n",
    "for name, measurement in zip(measurement_names, possible_measurements):\n",
    "    try:\n",
    "        device_counts[name] = device_counts.pop(measurement)\n",
    "    except:\n",
    "        device_counts[name] = 0\n",
    "\n",
    "print(device_counts)\n",
    "plot_histogram(device_counts)"
   ]
  },
  {
   "cell_type": "markdown",
   "id": "b6c3334f-c1f8-4a3f-96ac-962ac1c12992",
   "metadata": {},
   "source": [
    "**Check:** Does the histogram match your expectations?"
   ]
  },
  {
   "cell_type": "markdown",
   "id": "26d21a1c-714c-4ad2-8142-99ff5afbd3f4",
   "metadata": {},
   "source": [
    "**Bonus excercises:** The next two circuits are bonus exercises, but feel free to look at them to get more experience with two-qubit systems."
   ]
  },
  {
   "cell_type": "code",
   "execution_count": null,
   "id": "55c39d2c-e6a7-47f2-850a-7d22475577bc",
   "metadata": {},
   "outputs": [],
   "source": [
    "circuitE1 = QuantumCircuit(2,2)\n",
    "circuitE1.x(0)\n",
    "circuitE1.h(1)\n",
    "circuitE1.barrier()\n",
    "circuitE1.measure(0,0)\n",
    "circuitE1.measure(1,1)\n",
    "circuitE1.draw()"
   ]
  },
  {
   "cell_type": "markdown",
   "id": "49aa0179-d166-4ad3-8ef3-4d6a5d3ebccc",
   "metadata": {},
   "source": [
    "**Exercise:** Confirm that the circuit puts the qubits in the state\n",
    "$$\\frac{1}{\\sqrt{2}}\\left(|11\\rangle + |01\\rangle\\right)$$\n",
    "What are the possible outcomes of measuring this state? With what propabilities do they occur?"
   ]
  },
  {
   "cell_type": "code",
   "execution_count": null,
   "id": "30ffd8d4-158c-4cf1-bc04-e16daec0ee31",
   "metadata": {},
   "outputs": [],
   "source": [
    "sim = True\n",
    "N_measure = 1024"
   ]
  },
  {
   "cell_type": "code",
   "execution_count": null,
   "id": "6cea9455-79da-4397-87b4-3c19ac9a53c4",
   "metadata": {},
   "outputs": [],
   "source": [
    "if sim:\n",
    "    simulator = Aer.get_backend('aer_simulator')\n",
    "    Nmeasure = N_measure #Amount of times the circuit is run\n",
    "    result = simulator.run(circuitE1, shots=Nmeasure).result() \n",
    "    device_counts = result.get_counts() #Saves results as dictionary object\n",
    "    #Simulation code\n",
    "else:\n",
    "# Load our saved IBMQ accounts and get the least busy backend device with less than or equal to 5 qubits\n",
    "    n=3\n",
    "    IBMQ.load_account()\n",
    "    provider = IBMQ.get_provider(hub='ibm-q')\n",
    "    backend = least_busy(provider.backends(filters=lambda x: x.configuration().n_qubits >= n and \n",
    "                                       not x.configuration().simulator and x.status().operational==True))\n",
    "    #Finds the least busy quantum computer on the IBM Q network\n",
    "    print(\"least busy backend: \", backend)\n",
    "\n",
    "# Execute and monitor the job\n",
    "    from qiskit.tools.monitor import job_monitor\n",
    "    shots = 1024\n",
    "    transpiled_circ = transpile(circuitE1, backend, optimization_level=3) \n",
    "    qobj = assemble(transpiled_circ, shots=shots)\n",
    "    job = backend.run(qobj) #Send circuit to the quantum computer\n",
    "    job_monitor(job, interval=2)\n",
    "    device_counts = job.result().get_counts()\n",
    "\n",
    "possible_measurements = ['00','01','10','11']\n",
    "measurement_names = ['00','01','10','11']\n",
    "\n",
    "for name, measurement in zip(measurement_names, possible_measurements):\n",
    "    try:\n",
    "        device_counts[name] = device_counts.pop(measurement)\n",
    "    except:\n",
    "        device_counts[name] = 0\n",
    "\n",
    "print(device_counts)\n",
    "plot_histogram(device_counts)"
   ]
  },
  {
   "cell_type": "code",
   "execution_count": null,
   "id": "4908f8f0-b4fb-4c96-aaad-705d98f3b8d2",
   "metadata": {},
   "outputs": [],
   "source": [
    "circuitE2 = QuantumCircuit(2,2)\n",
    "circuitE2.x(0)\n",
    "circuitE2.h(1)\n",
    "circuitE2.z(0)\n",
    "circuitE2.z(1)\n",
    "circuitE2.barrier()\n",
    "circuitE2.measure(0,0)\n",
    "circuitE2.measure(1,1)\n",
    "circuitE2.draw()"
   ]
  },
  {
   "cell_type": "markdown",
   "id": "ef330fe9-9152-4d04-add7-25aa640091be",
   "metadata": {},
   "source": [
    "**Exercise:** Confirm that the circuit puts the qubits in the state\n",
    "$$\\frac{1}{\\sqrt{2}}\\left(|11\\rangle - |01\\rangle\\right)$$\n",
    "Do you expect the measurement of this circuit will be different that the circuit above?"
   ]
  },
  {
   "cell_type": "code",
   "execution_count": null,
   "id": "4bedff62-aa15-42d7-a9d9-f8321ed9a02c",
   "metadata": {},
   "outputs": [],
   "source": [
    "sim = True\n",
    "N_measure = 1024"
   ]
  },
  {
   "cell_type": "code",
   "execution_count": null,
   "id": "2d069df5-6db8-46b5-b960-04aac6816549",
   "metadata": {},
   "outputs": [],
   "source": [
    "if sim:\n",
    "    simulator = Aer.get_backend('aer_simulator')\n",
    "    Nmeasure = N_measure #Amount of times the circuit is run\n",
    "    result = simulator.run(circuitE2, shots=Nmeasure).result() \n",
    "    device_counts = result.get_counts() #Saves results as dictionary object\n",
    "    #Simulation code\n",
    "else:\n",
    "# Load our saved IBMQ accounts and get the least busy backend device with less than or equal to 5 qubits\n",
    "    n=3\n",
    "    IBMQ.load_account()\n",
    "    provider = IBMQ.get_provider(hub='ibm-q')\n",
    "    backend = least_busy(provider.backends(filters=lambda x: x.configuration().n_qubits >= n and \n",
    "                                       not x.configuration().simulator and x.status().operational==True))\n",
    "    #Finds the least busy quantum computer on the IBM Q network\n",
    "    print(\"least busy backend: \", backend)\n",
    "\n",
    "# Execute and monitor the job\n",
    "    from qiskit.tools.monitor import job_monitor\n",
    "    shots = 1024\n",
    "    transpiled_circ = transpile(circuitE2, backend, optimization_level=3) \n",
    "    qobj = assemble(transpiled_circ, shots=shots)\n",
    "    job = backend.run(qobj) #Send circuit to the quantum computer\n",
    "    job_monitor(job, interval=2)\n",
    "    device_counts = job.result().get_counts()\n",
    "\n",
    "possible_measurements = ['00','10','01','11']\n",
    "measurement_names = ['00','10','01','11']\n",
    "\n",
    "for name, measurement in zip(measurement_names, possible_measurements):\n",
    "    try:\n",
    "        device_counts[name] = device_counts.pop(measurement)\n",
    "    except:\n",
    "        device_counts[name] = 0\n",
    "\n",
    "print(device_counts)\n",
    "plot_histogram(device_counts)"
   ]
  },
  {
   "cell_type": "markdown",
   "id": "53f7ee81-e754-4b47-b07a-56fa8d7d3f72",
   "metadata": {},
   "source": [
    "Now we've looked at some exercises with two qubits. Were any of them entangled? To put it another way, did measuring one qubit ever influence the other? What would happen if we exchanged the order of measurements in the circuits above?\n",
    "\n",
    "Having thought about these questions, you're ready to take on the next exercise which deals with entanglement!"
   ]
  },
  {
   "cell_type": "code",
   "execution_count": null,
   "id": "78d11dbf-8f58-4607-8ae7-739a1cbe0f62",
   "metadata": {},
   "outputs": [],
   "source": []
  }
 ],
 "metadata": {
  "kernelspec": {
   "display_name": "Python 3 (ipykernel)",
   "language": "python",
   "name": "python3"
  },
  "language_info": {
   "codemirror_mode": {
    "name": "ipython",
    "version": 3
   },
   "file_extension": ".py",
   "mimetype": "text/x-python",
   "name": "python",
   "nbconvert_exporter": "python",
   "pygments_lexer": "ipython3",
   "version": "3.10.8"
  },
  "widgets": {
   "application/vnd.jupyter.widget-state+json": {
    "state": {
     "0afef3236c9e4a21bd1a0b50fcdd100a": {
      "model_module": "@jupyter-widgets/base",
      "model_module_version": "2.0.0",
      "model_name": "LayoutModel",
      "state": {
       "grid_template_areas": "\n                                       \". . . . right \"\n                                        ",
       "grid_template_columns": "20% 20% 20% 20% 20%",
       "width": "100%"
      }
     },
     "1641e57b1507458e913c70cc2062c2aa": {
      "model_module": "@jupyter-widgets/controls",
      "model_module_version": "2.0.0",
      "model_name": "HTMLModel",
      "state": {
       "layout": "IPY_MODEL_791e1d2be86d49e1973d5418452b94fc",
       "style": "IPY_MODEL_dd0a3a89fbb84476b39cb879475b1ab0",
       "value": "<h5>Backend</h5>"
      }
     },
     "230f4ce7f3524320ae674009ec21e2de": {
      "model_module": "@jupyter-widgets/controls",
      "model_module_version": "2.0.0",
      "model_name": "ButtonStyleModel",
      "state": {
       "font_family": null,
       "font_size": null,
       "font_style": null,
       "font_variant": null,
       "font_weight": null,
       "text_color": null,
       "text_decoration": null
      }
     },
     "23b6b18af9824550835f93ea93592fc3": {
      "model_module": "@jupyter-widgets/base",
      "model_module_version": "2.0.0",
      "model_name": "LayoutModel",
      "state": {
       "margin": "0px 0px 10px 0px"
      }
     },
     "47d3ec9d05c24128a750b49e6a544349": {
      "model_module": "@jupyter-widgets/controls",
      "model_module_version": "2.0.0",
      "model_name": "HTMLModel",
      "state": {
       "layout": "IPY_MODEL_8628cb9936e644b8baa6b6c730889bb7",
       "style": "IPY_MODEL_b18c630b997548a59604613138be8419",
       "value": "<h5>Queue</h5>"
      }
     },
     "4e75dc6ed3a84e64a7cbb33ec97f0258": {
      "model_module": "@jupyter-widgets/base",
      "model_module_version": "2.0.0",
      "model_name": "LayoutModel",
      "state": {
       "grid_area": "right",
       "padding": "0px 0px 0px 0px",
       "width": "70px"
      }
     },
     "5d4a06033fa84ae18c7b26cdbf0e7149": {
      "model_module": "@jupyter-widgets/controls",
      "model_module_version": "2.0.0",
      "model_name": "HTMLStyleModel",
      "state": {
       "description_width": "",
       "font_size": null,
       "text_color": null
      }
     },
     "5fcba603197a48bb845f1800c813d288": {
      "model_module": "@jupyter-widgets/controls",
      "model_module_version": "2.0.0",
      "model_name": "HTMLModel",
      "state": {
       "layout": "IPY_MODEL_a70d2304d8284c4e96d6deb9f3d15157",
       "style": "IPY_MODEL_bae52d0f544349bda123e24adab5c1e2",
       "value": "<h5>Message</h5>"
      }
     },
     "68834ffd14b145638e6b4f7dc0e9bcbd": {
      "model_module": "@jupyter-widgets/controls",
      "model_module_version": "2.0.0",
      "model_name": "HTMLStyleModel",
      "state": {
       "description_width": "",
       "font_size": null,
       "text_color": null
      }
     },
     "6ef39f3dd11f4de9b6106d5038f6a35d": {
      "model_module": "@jupyter-widgets/base",
      "model_module_version": "2.0.0",
      "model_name": "LayoutModel",
      "state": {
       "margin": "0px 0px 0px 37px",
       "width": "600px"
      }
     },
     "791e1d2be86d49e1973d5418452b94fc": {
      "model_module": "@jupyter-widgets/base",
      "model_module_version": "2.0.0",
      "model_name": "LayoutModel",
      "state": {
       "width": "145px"
      }
     },
     "8248eb83d5054200b67418caf3e0f659": {
      "model_module": "@jupyter-widgets/controls",
      "model_module_version": "2.0.0",
      "model_name": "HTMLModel",
      "state": {
       "layout": "IPY_MODEL_be56a1ccde92462d8af602ced1634dcb",
       "style": "IPY_MODEL_68834ffd14b145638e6b4f7dc0e9bcbd",
       "value": "<h5>Job ID</h5>"
      }
     },
     "8628cb9936e644b8baa6b6c730889bb7": {
      "model_module": "@jupyter-widgets/base",
      "model_module_version": "2.0.0",
      "model_name": "LayoutModel",
      "state": {
       "width": "70px"
      }
     },
     "8e13246882704cfeb9b3bf12793e33eb": {
      "model_module": "@jupyter-widgets/controls",
      "model_module_version": "2.0.0",
      "model_name": "HTMLModel",
      "state": {
       "layout": "IPY_MODEL_23b6b18af9824550835f93ea93592fc3",
       "style": "IPY_MODEL_bb02cc25e27742b59b768a6f47638c8b",
       "value": "<p style='font-family: IBM Plex Sans, Arial, Helvetica, sans-serif; font-size: 20px; font-weight: medium;'>Circuit Properties</p>"
      }
     },
     "9b7f4cc6505b489ca987ecab5c929064": {
      "model_module": "@jupyter-widgets/base",
      "model_module_version": "2.0.0",
      "model_name": "LayoutModel",
      "state": {
       "width": "95px"
      }
     },
     "a1396c6f817648d1808ee616f5165329": {
      "model_module": "@jupyter-widgets/controls",
      "model_module_version": "2.0.0",
      "model_name": "ButtonModel",
      "state": {
       "button_style": "primary",
       "description": "Clear",
       "layout": "IPY_MODEL_4e75dc6ed3a84e64a7cbb33ec97f0258",
       "style": "IPY_MODEL_230f4ce7f3524320ae674009ec21e2de",
       "tooltip": null
      }
     },
     "a70d2304d8284c4e96d6deb9f3d15157": {
      "model_module": "@jupyter-widgets/base",
      "model_module_version": "2.0.0",
      "model_name": "LayoutModel",
      "state": {}
     },
     "ac065540708c435686a86c88a7f46b8e": {
      "model_module": "@jupyter-widgets/controls",
      "model_module_version": "2.0.0",
      "model_name": "HTMLModel",
      "state": {
       "layout": "IPY_MODEL_9b7f4cc6505b489ca987ecab5c929064",
       "style": "IPY_MODEL_5d4a06033fa84ae18c7b26cdbf0e7149",
       "value": "<h5>Status</h5>"
      }
     },
     "b18c630b997548a59604613138be8419": {
      "model_module": "@jupyter-widgets/controls",
      "model_module_version": "2.0.0",
      "model_name": "HTMLStyleModel",
      "state": {
       "description_width": "",
       "font_size": null,
       "text_color": null
      }
     },
     "b7d18fad9995435cba7a056f7077d12b": {
      "model_module": "@jupyter-widgets/controls",
      "model_module_version": "2.0.0",
      "model_name": "GridBoxModel",
      "state": {
       "children": [
        "IPY_MODEL_a1396c6f817648d1808ee616f5165329"
       ],
       "layout": "IPY_MODEL_0afef3236c9e4a21bd1a0b50fcdd100a"
      }
     },
     "bae52d0f544349bda123e24adab5c1e2": {
      "model_module": "@jupyter-widgets/controls",
      "model_module_version": "2.0.0",
      "model_name": "HTMLStyleModel",
      "state": {
       "description_width": "",
       "font_size": null,
       "text_color": null
      }
     },
     "bb02cc25e27742b59b768a6f47638c8b": {
      "model_module": "@jupyter-widgets/controls",
      "model_module_version": "2.0.0",
      "model_name": "HTMLStyleModel",
      "state": {
       "description_width": "",
       "font_size": null,
       "text_color": null
      }
     },
     "be56a1ccde92462d8af602ced1634dcb": {
      "model_module": "@jupyter-widgets/base",
      "model_module_version": "2.0.0",
      "model_name": "LayoutModel",
      "state": {
       "width": "190px"
      }
     },
     "dd0a3a89fbb84476b39cb879475b1ab0": {
      "model_module": "@jupyter-widgets/controls",
      "model_module_version": "2.0.0",
      "model_name": "HTMLStyleModel",
      "state": {
       "description_width": "",
       "font_size": null,
       "text_color": null
      }
     },
     "edd4343c6e2943ac89b84c97c432035a": {
      "model_module": "@jupyter-widgets/controls",
      "model_module_version": "2.0.0",
      "model_name": "HBoxModel",
      "state": {
       "children": [
        "IPY_MODEL_8248eb83d5054200b67418caf3e0f659",
        "IPY_MODEL_1641e57b1507458e913c70cc2062c2aa",
        "IPY_MODEL_ac065540708c435686a86c88a7f46b8e",
        "IPY_MODEL_47d3ec9d05c24128a750b49e6a544349",
        "IPY_MODEL_5fcba603197a48bb845f1800c813d288"
       ],
       "layout": "IPY_MODEL_6ef39f3dd11f4de9b6106d5038f6a35d"
      }
     }
    },
    "version_major": 2,
    "version_minor": 0
   }
  }
 },
 "nbformat": 4,
 "nbformat_minor": 5
}
